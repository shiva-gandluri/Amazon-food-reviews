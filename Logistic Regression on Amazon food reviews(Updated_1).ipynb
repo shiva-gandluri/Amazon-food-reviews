{
 "cells": [
  {
   "cell_type": "markdown",
   "metadata": {},
   "source": [
    "# Logistic Regression On Amazon Food Reviews\n",
    "\n",
    "\n",
    "The Amazon Fine Food Reviews dataset consists of reviews of fine foods from Amazon.<br>\n",
    "\n",
    "Number of reviews: 568,454<br>\n",
    "Number of users: 256,059<br>\n",
    "Number of products: 74,258<br>\n",
    "Timespan: Oct 1999 - Oct 2012<br>\n",
    "Number of Attributes/Columns in data: 10 \n",
    "\n",
    "Attribute Information:\n",
    "\n",
    "1. Id\n",
    "2. ProductId - unique identifier for the product\n",
    "3. UserId - unqiue identifier for the user\n",
    "4. ProfileName\n",
    "5. HelpfulnessNumerator - number of users who found the review helpful\n",
    "6. HelpfulnessDenominator - number of users who indicated whether they found the review helpful or not\n",
    "7. Score - rating between 1 and 5\n",
    "8. Time - timestamp for the review\n",
    "9. Summary - brief summary of the review\n",
    "10. Text - text of the review\n",
    "\n",
    "\n",
    "### Objective:\n",
    " * Apply Logistic Regression on Amazon food reviews using l1 and l2 regularisation .find optimal 'lambda'\n",
    "* For different values of 'lambda' report accuracy ,error,sparsity\n",
    " * Feature Importance"
   ]
  },
  {
   "cell_type": "code",
   "execution_count": 1,
   "metadata": {},
   "outputs": [],
   "source": [
    "import sqlite3\n",
    "import pandas as pd\n",
    "import numpy as np\n",
    "\n",
    "import string\n",
    "import matplotlib.pyplot as plt\n",
    "import seaborn as sns\n",
    "from sklearn.feature_extraction.text import TfidfTransformer\n",
    "from sklearn.feature_extraction.text import TfidfVectorizer\n",
    "\n",
    "import warnings\n",
    "warnings.filterwarnings(\"ignore\")\n",
    "\n",
    "from sklearn.feature_extraction.text import CountVectorizer\n",
    "from sklearn.model_selection import train_test_split\n",
    "from scipy.sparse import csr_matrix\n",
    "from sklearn import cross_validation\n",
    "from collections import Counter"
   ]
  },
  {
   "cell_type": "markdown",
   "metadata": {},
   "source": [
    "# Loading the data\n",
    "\n",
    "\n",
    "The dataset is available in two forms\n",
    "\n",
    "1) .csv file\n",
    "2)  SQLite Database\n",
    "\n",
    "\n",
    "\n",
    "\n",
    "In order to load the data, We have used the SQLITE dataset as it easier to query the data and visualise the data efficiently. \n",
    "Here as we only want to get the global sentiment of the recommendations (positive or negative), we will purposefully ignore all Scores equal to 3. If the score id above 3, then the recommendation wil be set to \"positive\". Otherwise, it will be set to \"negative\"\n",
    "\n",
    "\n",
    "Also we sort data by time-based slicing"
   ]
  },
  {
   "cell_type": "markdown",
   "metadata": {},
   "source": [
    "## Loading Preprocessed Data\n",
    "\n",
    "I have preprocessed the data separately for 250k points and stored in cleanedreviews.csv"
   ]
  },
  {
   "cell_type": "code",
   "execution_count": 2,
   "metadata": {},
   "outputs": [
    {
     "data": {
      "text/html": [
       "<div>\n",
       "<style scoped>\n",
       "    .dataframe tbody tr th:only-of-type {\n",
       "        vertical-align: middle;\n",
       "    }\n",
       "\n",
       "    .dataframe tbody tr th {\n",
       "        vertical-align: top;\n",
       "    }\n",
       "\n",
       "    .dataframe thead th {\n",
       "        text-align: right;\n",
       "    }\n",
       "</style>\n",
       "<table border=\"1\" class=\"dataframe\">\n",
       "  <thead>\n",
       "    <tr style=\"text-align: right;\">\n",
       "      <th></th>\n",
       "      <th>Unnamed: 0</th>\n",
       "      <th>Id</th>\n",
       "      <th>ProductId</th>\n",
       "      <th>UserId</th>\n",
       "      <th>ProfileName</th>\n",
       "      <th>HelpfulnessNumerator</th>\n",
       "      <th>HelpfulnessDenominator</th>\n",
       "      <th>Score</th>\n",
       "      <th>Time</th>\n",
       "      <th>Summary</th>\n",
       "      <th>Text</th>\n",
       "    </tr>\n",
       "  </thead>\n",
       "  <tbody>\n",
       "    <tr>\n",
       "      <th>0</th>\n",
       "      <td>0</td>\n",
       "      <td>150524</td>\n",
       "      <td>0006641040</td>\n",
       "      <td>ACITT7DI6IDDL</td>\n",
       "      <td>shari zychinski</td>\n",
       "      <td>0</td>\n",
       "      <td>0</td>\n",
       "      <td>1</td>\n",
       "      <td>939340800</td>\n",
       "      <td>EVERY book is educational</td>\n",
       "      <td>witty little book makes son laugh loud recite ...</td>\n",
       "    </tr>\n",
       "    <tr>\n",
       "      <th>1</th>\n",
       "      <td>1</td>\n",
       "      <td>150501</td>\n",
       "      <td>0006641040</td>\n",
       "      <td>AJ46FKXOVC7NR</td>\n",
       "      <td>Nicholas A Mesiano</td>\n",
       "      <td>2</td>\n",
       "      <td>2</td>\n",
       "      <td>1</td>\n",
       "      <td>940809600</td>\n",
       "      <td>This whole series is great way to spend time w...</td>\n",
       "      <td>remember seeing show aired television years ag...</td>\n",
       "    </tr>\n",
       "    <tr>\n",
       "      <th>2</th>\n",
       "      <td>2</td>\n",
       "      <td>451856</td>\n",
       "      <td>B00004CXX9</td>\n",
       "      <td>AIUWLEQ1ADEG5</td>\n",
       "      <td>Elizabeth Medina</td>\n",
       "      <td>0</td>\n",
       "      <td>0</td>\n",
       "      <td>1</td>\n",
       "      <td>944092800</td>\n",
       "      <td>Entertainingl Funny!</td>\n",
       "      <td>beetlejuice well written movie everything exce...</td>\n",
       "    </tr>\n",
       "    <tr>\n",
       "      <th>3</th>\n",
       "      <td>3</td>\n",
       "      <td>230285</td>\n",
       "      <td>B00004RYGX</td>\n",
       "      <td>A344SMIA5JECGM</td>\n",
       "      <td>Vincent P. Ross</td>\n",
       "      <td>1</td>\n",
       "      <td>2</td>\n",
       "      <td>1</td>\n",
       "      <td>944438400</td>\n",
       "      <td>A modern day fairy tale</td>\n",
       "      <td>twist rumplestiskin captured film starring mic...</td>\n",
       "    </tr>\n",
       "    <tr>\n",
       "      <th>4</th>\n",
       "      <td>4</td>\n",
       "      <td>374359</td>\n",
       "      <td>B00004CI84</td>\n",
       "      <td>A344SMIA5JECGM</td>\n",
       "      <td>Vincent P. Ross</td>\n",
       "      <td>1</td>\n",
       "      <td>2</td>\n",
       "      <td>1</td>\n",
       "      <td>944438400</td>\n",
       "      <td>A modern day fairy tale</td>\n",
       "      <td>twist rumplestiskin captured film starring mic...</td>\n",
       "    </tr>\n",
       "  </tbody>\n",
       "</table>\n",
       "</div>"
      ],
      "text/plain": [
       "   Unnamed: 0      Id   ProductId          UserId         ProfileName  \\\n",
       "0           0  150524  0006641040   ACITT7DI6IDDL     shari zychinski   \n",
       "1           1  150501  0006641040   AJ46FKXOVC7NR  Nicholas A Mesiano   \n",
       "2           2  451856  B00004CXX9   AIUWLEQ1ADEG5    Elizabeth Medina   \n",
       "3           3  230285  B00004RYGX  A344SMIA5JECGM     Vincent P. Ross   \n",
       "4           4  374359  B00004CI84  A344SMIA5JECGM     Vincent P. Ross   \n",
       "\n",
       "   HelpfulnessNumerator  HelpfulnessDenominator  Score       Time  \\\n",
       "0                     0                       0      1  939340800   \n",
       "1                     2                       2      1  940809600   \n",
       "2                     0                       0      1  944092800   \n",
       "3                     1                       2      1  944438400   \n",
       "4                     1                       2      1  944438400   \n",
       "\n",
       "                                             Summary  \\\n",
       "0                          EVERY book is educational   \n",
       "1  This whole series is great way to spend time w...   \n",
       "2                               Entertainingl Funny!   \n",
       "3                            A modern day fairy tale   \n",
       "4                            A modern day fairy tale   \n",
       "\n",
       "                                                Text  \n",
       "0  witty little book makes son laugh loud recite ...  \n",
       "1  remember seeing show aired television years ag...  \n",
       "2  beetlejuice well written movie everything exce...  \n",
       "3  twist rumplestiskin captured film starring mic...  \n",
       "4  twist rumplestiskin captured film starring mic...  "
      ]
     },
     "execution_count": 2,
     "metadata": {},
     "output_type": "execute_result"
    }
   ],
   "source": [
    "df=pd.read_csv('cleanedreviews.csv')\n",
    "df.head()"
   ]
  },
  {
   "cell_type": "code",
   "execution_count": 3,
   "metadata": {},
   "outputs": [
    {
     "data": {
      "text/plain": [
       "1    215035\n",
       "0     34965\n",
       "Name: Score, dtype: int64"
      ]
     },
     "execution_count": 3,
     "metadata": {},
     "output_type": "execute_result"
    }
   ],
   "source": [
    "df['Score'].value_counts()"
   ]
  },
  {
   "cell_type": "code",
   "execution_count": 4,
   "metadata": {},
   "outputs": [],
   "source": [
    "#array that contains +ve=1 and -ve=0 reviews\n",
    "y=np.array(df['Score'])"
   ]
  },
  {
   "cell_type": "code",
   "execution_count": 5,
   "metadata": {},
   "outputs": [
    {
     "data": {
      "text/plain": [
       "numpy.ndarray"
      ]
     },
     "execution_count": 5,
     "metadata": {},
     "output_type": "execute_result"
    }
   ],
   "source": [
    "type(y)"
   ]
  },
  {
   "cell_type": "code",
   "execution_count": 6,
   "metadata": {},
   "outputs": [],
   "source": [
    "df['Class']=['positive' if s==1 else 'negative' for s in df['Score']]"
   ]
  },
  {
   "cell_type": "markdown",
   "metadata": {},
   "source": [
    "## Splitting the data into train and test data"
   ]
  },
  {
   "cell_type": "code",
   "execution_count": 7,
   "metadata": {},
   "outputs": [],
   "source": [
    "# split the data set into train and test\n",
    "x_1, x_test, y_1, y_test = cross_validation.train_test_split(df['Text'], y, test_size=0.3, random_state=0)\n",
    "\n",
    "# split the train data set into cross validation train and cross validation test\n",
    "x_tr, x_cv, y_tr, y_cv = cross_validation.train_test_split(x_1, y_1, test_size=0.3,random_state=0)"
   ]
  },
  {
   "cell_type": "code",
   "execution_count": 8,
   "metadata": {},
   "outputs": [],
   "source": [
    "def plot_confusion_matrix(cm, cls=set(df['Class']),\n",
    "                          normalize=False,\n",
    "                          title='Confusion matrix',\n",
    "                          cmap=plt.cm.Blues):\n",
    "    \"\"\"\n",
    "    This function prints and plots the confusion matrix.\n",
    "    Normalization can be applied by setting `normalize=True`.\n",
    "    \"\"\"\n",
    "    if normalize:\n",
    "        cm = cm.astype('float') / cm.sum(axis=1)[:, np.newaxis]\n",
    "        print(\"Normalized confusion matrix\")\n",
    "    else:\n",
    "        print('Confusion matrix, without normalization')\n",
    "\n",
    "    print(cm)\n",
    "\n",
    "    plt.imshow(cm, interpolation='nearest', cmap=cmap)\n",
    "    plt.title(title)\n",
    "    plt.colorbar()\n",
    "    tick_marks = np.arange(len(cls))\n",
    "    plt.xticks(tick_marks, cls, rotation=45)\n",
    "    plt.yticks(tick_marks, cls)\n",
    "\n",
    "    fmt = '.2f' if normalize else 'd'\n",
    "    thresh = cm.max() / 2.\n",
    "    for i, j in itertools.product(range(cm.shape[0]), range(cm.shape[1])):\n",
    "        plt.text(j, i, format(cm[i, j], fmt),\n",
    "                 horizontalalignment=\"center\",\n",
    "                 color=\"white\" if cm[i, j] > thresh else \"black\")\n",
    "\n",
    "    plt.tight_layout()\n",
    "    plt.ylabel('True label')\n",
    "    plt.xlabel('Predicted label')\n"
   ]
  },
  {
   "cell_type": "markdown",
   "metadata": {},
   "source": [
    "# Bag of Words(BoW) on Reviews(text)"
   ]
  },
  {
   "cell_type": "code",
   "execution_count": 77,
   "metadata": {},
   "outputs": [],
   "source": [
    "count_vect=CountVectorizer(binary=True,max_features=500,dtype='float').fit(x_tr)"
   ]
  },
  {
   "cell_type": "code",
   "execution_count": 1,
   "metadata": {},
   "outputs": [
    {
     "ename": "ModuleNotFoundError",
     "evalue": "No module named 'sklearn.grid_search'",
     "output_type": "error",
     "traceback": [
      "\u001b[1;31m---------------------------------------------------------------------------\u001b[0m",
      "\u001b[1;31mModuleNotFoundError\u001b[0m                       Traceback (most recent call last)",
      "\u001b[1;32m<ipython-input-1-7729cde2dea2>\u001b[0m in \u001b[0;36m<module>\u001b[1;34m()\u001b[0m\n\u001b[0;32m      1\u001b[0m \u001b[1;32mfrom\u001b[0m \u001b[0msklearn\u001b[0m\u001b[1;33m.\u001b[0m\u001b[0mlinear_model\u001b[0m \u001b[1;32mimport\u001b[0m \u001b[0mLogisticRegression\u001b[0m\u001b[1;33m\u001b[0m\u001b[0m\n\u001b[1;32m----> 2\u001b[1;33m \u001b[1;32mfrom\u001b[0m \u001b[0msklearn\u001b[0m\u001b[1;33m.\u001b[0m\u001b[0mgrid_search\u001b[0m \u001b[1;32mimport\u001b[0m \u001b[0mGridSearchCV\u001b[0m\u001b[1;33m\u001b[0m\u001b[0m\n\u001b[0m\u001b[0;32m      3\u001b[0m \u001b[1;32mfrom\u001b[0m \u001b[0msklearn\u001b[0m\u001b[1;33m.\u001b[0m\u001b[0mcross_validation\u001b[0m \u001b[1;32mimport\u001b[0m \u001b[0mcross_val_score\u001b[0m\u001b[1;33m\u001b[0m\u001b[0m\n",
      "\u001b[1;31mModuleNotFoundError\u001b[0m: No module named 'sklearn.grid_search'"
     ]
    }
   ],
   "source": [
    "from sklearn.linear_model import LogisticRegression\n",
    "from sklearn.grid_search import GridSearchCV\n",
    "from sklearn.cross_validation import cross_val_score\n"
   ]
  },
  {
   "cell_type": "markdown",
   "metadata": {},
   "source": [
    "## Logistic Regression\n",
    "\n",
    "\n",
    "Using GridSearchCV and RandomSearchCV to find optimal 'lambda' and applying logistic regression by using both L1 and L2 regularisation"
   ]
  },
  {
   "cell_type": "code",
   "execution_count": 13,
   "metadata": {},
   "outputs": [],
   "source": [
    "tuned_parameters=[{'C':[10**-4,10**-2,10**0,10**2,10**4]}]"
   ]
  },
  {
   "cell_type": "markdown",
   "metadata": {},
   "source": [
    "### GridSearchCV"
   ]
  },
  {
   "cell_type": "code",
   "execution_count": 78,
   "metadata": {},
   "outputs": [],
   "source": [
    "x_trainvectorised=count_vect.transform(x_tr)"
   ]
  },
  {
   "cell_type": "code",
   "execution_count": 17,
   "metadata": {
    "scrolled": false
   },
   "outputs": [
    {
     "name": "stdout",
     "output_type": "stream",
     "text": [
      "LogisticRegression(C=100, class_weight=None, dual=False, fit_intercept=True,\n",
      "          intercept_scaling=1, max_iter=100, multi_class='ovr', n_jobs=1,\n",
      "          penalty='l2', random_state=None, solver='liblinear', tol=0.0001,\n",
      "          verbose=0, warm_start=False)\n"
     ]
    }
   ],
   "source": [
    "#l2 regularisation \n",
    "\n",
    "lr_model=GridSearchCV(LogisticRegression(penalty='l2'),tuned_parameters,scoring='f1',cv=5)\n",
    "lr_model.fit(x_trainvectorised,y_tr)\n",
    "print(lr_model.best_estimator_)"
   ]
  },
  {
   "cell_type": "code",
   "execution_count": 18,
   "metadata": {},
   "outputs": [
    {
     "data": {
      "text/plain": [
       "{'C': 100}"
      ]
     },
     "execution_count": 18,
     "metadata": {},
     "output_type": "execute_result"
    }
   ],
   "source": [
    "#optimal c=(1/lambda)\n",
    "\n",
    "lr_model.best_params_\n",
    "#optimal lambda=100"
   ]
  },
  {
   "cell_type": "code",
   "execution_count": 79,
   "metadata": {},
   "outputs": [],
   "source": [
    "x_testvectorised=count_vect.transform(x_test)"
   ]
  },
  {
   "cell_type": "code",
   "execution_count": 80,
   "metadata": {},
   "outputs": [],
   "source": [
    "x_cvvectoriesed=count_vect.transform(x_cv)"
   ]
  },
  {
   "cell_type": "code",
   "execution_count": 20,
   "metadata": {},
   "outputs": [
    {
     "data": {
      "text/plain": [
       "0.9405678934486539"
      ]
     },
     "execution_count": 20,
     "metadata": {},
     "output_type": "execute_result"
    }
   ],
   "source": [
    "lr_model.score(x_testvectorised,y_test)"
   ]
  },
  {
   "cell_type": "code",
   "execution_count": 21,
   "metadata": {},
   "outputs": [],
   "source": [
    "from sklearn.metrics import confusion_matrix\n",
    "import itertools"
   ]
  },
  {
   "cell_type": "code",
   "execution_count": 22,
   "metadata": {},
   "outputs": [
    {
     "name": "stdout",
     "output_type": "stream",
     "text": [
      "Confusion matrix, without normalization\n",
      "[[ 4445  6102]\n",
      " [ 1814 62639]]\n"
     ]
    },
    {
     "data": {
      "image/png": "[encoded data removed]",
      "text/plain": [
       "<Figure size 432x288 with 2 Axes>"
      ]
     },
     "metadata": {},
     "output_type": "display_data"
    }
   ],
   "source": [
    "#confusion matrix\n",
    "y_pred=lr_model.predict(x_testvectorised)\n",
    "plot_confusion_matrix(confusion_matrix(y_test,y_pred))"
   ]
  },
  {
   "cell_type": "code",
   "execution_count": 25,
   "metadata": {},
   "outputs": [],
   "source": [
    "from sklearn.metrics import log_loss"
   ]
  },
  {
   "cell_type": "code",
   "execution_count": 29,
   "metadata": {
    "scrolled": true
   },
   "outputs": [
    {
     "name": "stdout",
     "output_type": "stream",
     "text": [
      "LogisticRegression(C=1, class_weight=None, dual=False, fit_intercept=True,\n",
      "          intercept_scaling=1, max_iter=100, multi_class='ovr', n_jobs=1,\n",
      "          penalty='l1', random_state=None, solver='liblinear', tol=0.0001,\n",
      "          verbose=0, warm_start=False)\n"
     ]
    }
   ],
   "source": [
    "#L1 regularisation\n",
    "\n",
    "lr_model2=GridSearchCV(LogisticRegression(penalty='l1'),tuned_parameters,scoring='f1',cv=5)\n",
    "lr_model2.fit(x_trainvectorised,y_tr)\n",
    "print(lr_model2.best_estimator_)"
   ]
  },
  {
   "cell_type": "code",
   "execution_count": 20,
   "metadata": {},
   "outputs": [
    {
     "data": {
      "text/plain": [
       "{'C': 100}"
      ]
     },
     "execution_count": 20,
     "metadata": {},
     "output_type": "execute_result"
    }
   ],
   "source": [
    "lr_model2.best_params_\n",
    "#optimal lambda=0.01"
   ]
  },
  {
   "cell_type": "code",
   "execution_count": 21,
   "metadata": {},
   "outputs": [
    {
     "data": {
      "text/plain": [
       "0.9405618028135181"
      ]
     },
     "execution_count": 21,
     "metadata": {},
     "output_type": "execute_result"
    }
   ],
   "source": [
    "#score\n",
    "lr_model2.score(x_testvectorised,y_test)"
   ]
  },
  {
   "cell_type": "code",
   "execution_count": 23,
   "metadata": {},
   "outputs": [
    {
     "name": "stdout",
     "output_type": "stream",
     "text": [
      "Confusion matrix, without normalization\n",
      "[[ 4434  6113]\n",
      " [ 1805 62648]]\n"
     ]
    },
    {
     "data": {
      "image/png": "[encoded data removed]",
      "text/plain": [
       "<Figure size 432x288 with 2 Axes>"
      ]
     },
     "metadata": {},
     "output_type": "display_data"
    }
   ],
   "source": [
    "y_pred=lr_model2.predict(x_testvectorised)\n",
    "plot_confusion_matrix(confusion_matrix(y_test,y_pred))"
   ]
  },
  {
   "cell_type": "markdown",
   "metadata": {},
   "source": [
    "### RandomSearchCV"
   ]
  },
  {
   "cell_type": "code",
   "execution_count": 31,
   "metadata": {},
   "outputs": [],
   "source": [
    "#Generating list [10**-1,10**8] for randomised search\n",
    "tuned_parameters2={'C':[10**x for x in range(-2,8)]}\n"
   ]
  },
  {
   "cell_type": "code",
   "execution_count": 33,
   "metadata": {
    "scrolled": true
   },
   "outputs": [
    {
     "data": {
      "text/plain": [
       "LogisticRegression(C=100, class_weight=None, dual=False, fit_intercept=True,\n",
       "          intercept_scaling=1, max_iter=100, multi_class='ovr', n_jobs=1,\n",
       "          penalty='l2', random_state=None, solver='liblinear', tol=0.0001,\n",
       "          verbose=0, warm_start=False)"
      ]
     },
     "execution_count": 33,
     "metadata": {},
     "output_type": "execute_result"
    }
   ],
   "source": [
    "#L2 Regularisation\n",
    "\n",
    "from sklearn.model_selection import RandomizedSearchCV\n",
    "lr_model3=RandomizedSearchCV(LogisticRegression(penalty='l2'),tuned_parameters2,scoring='f1',cv=5)\n",
    "lr_model3.fit(x_trainvectorised,y_tr)\n",
    "lr_model3.best_estimator_"
   ]
  },
  {
   "cell_type": "code",
   "execution_count": 34,
   "metadata": {},
   "outputs": [
    {
     "data": {
      "text/plain": [
       "{'C': 100}"
      ]
     },
     "execution_count": 34,
     "metadata": {},
     "output_type": "execute_result"
    }
   ],
   "source": [
    "#optimal C=1/lambda\n",
    "lr_model3.best_params_"
   ]
  },
  {
   "cell_type": "code",
   "execution_count": 35,
   "metadata": {},
   "outputs": [
    {
     "data": {
      "text/plain": [
       "0.941240279979373"
      ]
     },
     "execution_count": 35,
     "metadata": {},
     "output_type": "execute_result"
    }
   ],
   "source": [
    "lr_model3.best_score_"
   ]
  },
  {
   "cell_type": "code",
   "execution_count": 37,
   "metadata": {},
   "outputs": [
    {
     "data": {
      "text/plain": [
       "LogisticRegression(C=1, class_weight=None, dual=False, fit_intercept=True,\n",
       "          intercept_scaling=1, max_iter=100, multi_class='ovr', n_jobs=1,\n",
       "          penalty='l1', random_state=None, solver='liblinear', tol=0.0001,\n",
       "          verbose=0, warm_start=False)"
      ]
     },
     "execution_count": 37,
     "metadata": {},
     "output_type": "execute_result"
    }
   ],
   "source": [
    "#L1 regularisation\n",
    "\n",
    "lr_model4=RandomizedSearchCV(LogisticRegression(penalty='l1'),tuned_parameters2,scoring='f1',cv=5)\n",
    "lr_model4.fit(x_trainvectorised,y_tr)\n",
    "lr_model4.best_estimator_"
   ]
  },
  {
   "cell_type": "code",
   "execution_count": 28,
   "metadata": {},
   "outputs": [
    {
     "data": {
      "text/plain": [
       "{'C': 100000}"
      ]
     },
     "execution_count": 28,
     "metadata": {},
     "output_type": "execute_result"
    }
   ],
   "source": [
    "#optimal C=1/lambda\n",
    "lr_model4.best_params_"
   ]
  },
  {
   "cell_type": "code",
   "execution_count": 29,
   "metadata": {},
   "outputs": [
    {
     "data": {
      "text/plain": [
       "0.9414472724279256"
      ]
     },
     "execution_count": 29,
     "metadata": {},
     "output_type": "execute_result"
    }
   ],
   "source": [
    "lr_model4.best_score_"
   ]
  },
  {
   "cell_type": "code",
   "execution_count": 30,
   "metadata": {},
   "outputs": [
    {
     "name": "stdout",
     "output_type": "stream",
     "text": [
      "For values of depth =  0.0001 The log loss is: 0.3928734238675757\n",
      "For values of depth =  0.01 The log loss is: 0.2617703033356382\n",
      "For values of depth =  1 The log loss is: 0.255485127106732\n",
      "For values of depth =  100 The log loss is: 0.2555290387897817\n",
      "For values of depth =  10000 The log loss is: 0.2555295255046781\n"
     ]
    },
    {
     "data": {
      "image/png": "[encoded data removed]",
      "text/plain": [
       "<Figure size 432x288 with 1 Axes>"
      ]
     },
     "metadata": {},
     "output_type": "display_data"
    }
   ],
   "source": [
    "#CV-Error for L2 regurlarisation\n",
    "alpha = [10**-4,10**-2,10**0,10**2,10**4]\n",
    "cv_log_error_array=[]\n",
    "for i in alpha:\n",
    "    lr = LogisticRegression(C=i,random_state=42,penalty='l2')\n",
    "    lr.fit(x_trainvectorised, y_tr)\n",
    "    predict_y = lr.predict_proba(x_cvvectoriesed)\n",
    "    #finding CV-error\n",
    "    cv_log_error_array.append(log_loss(y_cv, predict_y, labels=lr.classes_, eps=1e-15))\n",
    "    print('For values of depth = ', i, \"The log loss is:\",log_loss(y_cv, predict_y, labels=lr.classes_, eps=1e-15))\n",
    "\n",
    "fig, ax = plt.subplots()\n",
    "ax.plot(alpha, cv_log_error_array,c='g')\n",
    "for i, txt in enumerate(np.round(cv_log_error_array,3)):\n",
    "    ax.annotate((alpha[i],np.round(txt,3)), (alpha[i],cv_log_error_array[i]))\n",
    "plt.grid()\n",
    "plt.title(\"Cross Validation Error for each C\")\n",
    "plt.xlabel(\"C(1/lambda) i's\")\n",
    "plt.ylabel(\"Error measure\")\n",
    "plt.show()\n"
   ]
  },
  {
   "cell_type": "markdown",
   "metadata": {},
   "source": [
    "## By using L1 Regularisation find error and sparsity for different values of lambda\n",
    "\n",
    " More Sparsity (Fewer elements of W* being non-zero) by increasing Lambda (decreasing C) \n"
   ]
  },
  {
   "cell_type": "markdown",
   "metadata": {},
   "source": [
    "### lambda=10"
   ]
  },
  {
   "cell_type": "code",
   "execution_count": 81,
   "metadata": {},
   "outputs": [
    {
     "data": {
      "text/plain": [
       "LogisticRegression(C=0.1, class_weight=None, dual=False, fit_intercept=True,\n",
       "          intercept_scaling=1, max_iter=100, multi_class='ovr', n_jobs=1,\n",
       "          penalty='l1', random_state=None, solver='liblinear', tol=0.0001,\n",
       "          verbose=0, warm_start=False)"
      ]
     },
     "execution_count": 81,
     "metadata": {},
     "output_type": "execute_result"
    }
   ],
   "source": [
    "#lambda=10\n",
    "lr1=LogisticRegression(penalty='l1',C=0.1)\n",
    "lr1.fit(x_trainvectorised,y_tr)"
   ]
  },
  {
   "cell_type": "code",
   "execution_count": 41,
   "metadata": {},
   "outputs": [
    {
     "name": "stdout",
     "output_type": "stream",
     "text": [
      "The number of non-zero elements 437\n",
      "accuracy 89.357333\n",
      "error 10.642667 \n"
     ]
    }
   ],
   "source": [
    "print(\"The number of non-zero elements %d\" %np.count_nonzero(lr1.coef_))\n",
    "print(\"accuracy %f\" %(lr1.score(x_testvectorised,y_test)*100))\n",
    "print(\"error %f \"%(100-(lr1.score(x_testvectorised,y_test)*100)))"
   ]
  },
  {
   "cell_type": "markdown",
   "metadata": {},
   "source": [
    "### lambda=100"
   ]
  },
  {
   "cell_type": "code",
   "execution_count": 42,
   "metadata": {},
   "outputs": [
    {
     "data": {
      "text/plain": [
       "LogisticRegression(C=0.01, class_weight=None, dual=False, fit_intercept=True,\n",
       "          intercept_scaling=1, max_iter=100, multi_class='ovr', n_jobs=1,\n",
       "          penalty='l1', random_state=None, solver='liblinear', tol=0.0001,\n",
       "          verbose=0, warm_start=False)"
      ]
     },
     "execution_count": 42,
     "metadata": {},
     "output_type": "execute_result"
    }
   ],
   "source": [
    "#lambda=100\n",
    "lr2=LogisticRegression(penalty='l1',C=0.01)\n",
    "lr2.fit(x_trainvectorised,y_tr)"
   ]
  },
  {
   "cell_type": "code",
   "execution_count": 34,
   "metadata": {},
   "outputs": [
    {
     "name": "stdout",
     "output_type": "stream",
     "text": [
      "The number of non-zero elements 227\n",
      "accuracy 88.628000\n",
      "error 11.372000 \n"
     ]
    }
   ],
   "source": [
    "print(\"The number of non-zero elements %d\" %np.count_nonzero(lr2.coef_))\n",
    "print(\"accuracy %f\" %(lr2.score(x_testvectorised,y_test)*100))\n",
    "print(\"error %f \"%(100-(lr2.score(x_testvectorised,y_test)*100)))"
   ]
  },
  {
   "cell_type": "markdown",
   "metadata": {},
   "source": [
    "### Lambda=1000"
   ]
  },
  {
   "cell_type": "code",
   "execution_count": 43,
   "metadata": {},
   "outputs": [
    {
     "data": {
      "text/plain": [
       "LogisticRegression(C=0.001, class_weight=None, dual=False, fit_intercept=True,\n",
       "          intercept_scaling=1, max_iter=100, multi_class='ovr', n_jobs=1,\n",
       "          penalty='l1', random_state=None, solver='liblinear', tol=0.0001,\n",
       "          verbose=0, warm_start=False)"
      ]
     },
     "execution_count": 43,
     "metadata": {},
     "output_type": "execute_result"
    }
   ],
   "source": [
    "lr3=LogisticRegression(penalty='l1',C=0.001)\n",
    "lr3.fit(x_trainvectorised,y_tr)\n",
    " "
   ]
  },
  {
   "cell_type": "code",
   "execution_count": 36,
   "metadata": {},
   "outputs": [
    {
     "name": "stdout",
     "output_type": "stream",
     "text": [
      "The number of non-zero elements 16\n",
      "accuracy 85.940000\n",
      "error 14.060000 \n"
     ]
    }
   ],
   "source": [
    "print(\"The number of non-zero elements %d\" %np.count_nonzero(lr3.coef_))\n",
    "print(\"accuracy %f\" %(lr3.score(x_testvectorised,y_test)*100))\n",
    "print(\"error %f \"%(100-(lr3.score(x_testvectorised,y_test)*100)))"
   ]
  },
  {
   "cell_type": "markdown",
   "metadata": {},
   "source": [
    "### lambda=0.1"
   ]
  },
  {
   "cell_type": "code",
   "execution_count": 44,
   "metadata": {},
   "outputs": [
    {
     "name": "stdout",
     "output_type": "stream",
     "text": [
      "The number of non-zero elements 500\n",
      "accuracy 89.441333\n",
      "error 10.558667 \n"
     ]
    }
   ],
   "source": [
    "lr4=LogisticRegression(penalty='l1',C=10)\n",
    "lr4.fit(x_trainvectorised,y_tr)\n",
    "print(\"The number of non-zero elements %d\" %np.count_nonzero(lr4.coef_))\n",
    "print(\"accuracy %f\" %(lr4.score(x_testvectorised,y_test)*100))\n",
    "print(\"error %f \"%(100-(lr4.score(x_testvectorised,y_test)*100)))"
   ]
  },
  {
   "cell_type": "markdown",
   "metadata": {},
   "source": [
    "### Lambda=0.01"
   ]
  },
  {
   "cell_type": "code",
   "execution_count": 45,
   "metadata": {},
   "outputs": [
    {
     "name": "stdout",
     "output_type": "stream",
     "text": [
      "The number of non-zero elements 500\n",
      "accuracy 89.445333\n",
      "error 10.554667 \n"
     ]
    }
   ],
   "source": [
    "lr5=LogisticRegression(penalty='l1',C=100)\n",
    "lr5.fit(x_trainvectorised,y_tr)\n",
    "print(\"The number of non-zero elements %d\" %np.count_nonzero(lr5.coef_))\n",
    "print(\"accuracy %f\" %(lr5.score(x_testvectorised,y_test)*100))\n",
    "print(\"error %f \"%(100-(lr5.score(x_testvectorised,y_test)*100)))"
   ]
  },
  {
   "cell_type": "markdown",
   "metadata": {},
   "source": [
    "### Lambda=0.001"
   ]
  },
  {
   "cell_type": "code",
   "execution_count": 46,
   "metadata": {},
   "outputs": [
    {
     "name": "stdout",
     "output_type": "stream",
     "text": [
      "The number of non-zero elements 500\n",
      "accuracy 89.446667\n",
      "error 10.553333 \n"
     ]
    }
   ],
   "source": [
    "lr5=LogisticRegression(penalty='l1',C=1000)\n",
    "lr5.fit(x_trainvectorised,y_tr)\n",
    "print(\"The number of non-zero elements %d\" %np.count_nonzero(lr5.coef_))\n",
    "print(\"accuracy %f\" %(lr5.score(x_testvectorised,y_test)*100))\n",
    "print(\"error %f \"%(100-(lr5.score(x_testvectorised,y_test)*100)))"
   ]
  },
  {
   "cell_type": "markdown",
   "metadata": {},
   "source": [
    "## Observation:\n",
    "For smaller values of lambda we are getting higher accuracy than for bigger values of lambda"
   ]
  },
  {
   "cell_type": "markdown",
   "metadata": {},
   "source": [
    "## Feature Importance \n",
    "\n",
    "Using weights of features to determine importance"
   ]
  },
  {
   "cell_type": "code",
   "execution_count": 82,
   "metadata": {
    "scrolled": true
   },
   "outputs": [
    {
     "data": {
      "text/plain": [
       "array([[-2.01583686e-01,  0.00000000e+00, -2.20429738e-01,\n",
       "        -1.13616424e-01, -6.73049155e-02,  0.00000000e+00,\n",
       "        -5.00579529e-01,  3.49802940e-01,  0.00000000e+00,\n",
       "        -4.74703415e-02,  5.42768372e-01,  8.95761927e-02,\n",
       "        -6.40511886e-02, -4.86313187e-01,  1.60733480e-01,\n",
       "         5.37010120e-02,  5.10239539e-02,  3.03140461e-03,\n",
       "        -2.90040690e-02,  5.92067535e-01,  1.28972548e+00,\n",
       "         9.17700256e-02, -8.02049475e-02, -4.82148078e-02,\n",
       "        -8.18713993e-02, -2.05863565e-01,  0.00000000e+00,\n",
       "         1.11893483e-02, -5.97063417e-02, -4.86764646e-01,\n",
       "         0.00000000e+00,  3.46631272e-01, -8.53747185e-01,\n",
       "         1.32858534e+00, -2.60440662e-01, -3.13323959e-01,\n",
       "        -9.91709931e-01, -1.11861098e-01, -2.81151746e-01,\n",
       "         5.89066957e-02, -2.64021285e-01, -1.46023443e-01,\n",
       "         0.00000000e+00, -3.66774630e-02,  0.00000000e+00,\n",
       "         1.36129713e+00,  9.20330799e-02,  1.68559243e-02,\n",
       "         4.40188614e-01, -3.13567831e-01, -6.27439160e-01,\n",
       "         0.00000000e+00,  0.00000000e+00,  2.55491067e-01,\n",
       "        -2.42926287e-02, -4.57372984e-01,  0.00000000e+00,\n",
       "        -3.93809059e-01, -4.14848596e-01, -2.72748085e-01,\n",
       "         3.53622866e-01,  1.39934004e-01,  2.75570617e-01,\n",
       "        -6.20870882e-02, -2.72421656e-01,  4.20986435e-01,\n",
       "         1.22190047e-01, -3.23055259e-01, -1.62264627e-01,\n",
       "         5.67316792e-01,  1.84965037e-02,  9.47713822e-02,\n",
       "         3.02745299e-01, -3.59713955e-01, -4.56916496e-01,\n",
       "        -3.40922855e-01, -2.53594443e-01,  5.18935093e-01,\n",
       "         8.13050372e-02,  1.35542334e-01, -4.28876186e-01,\n",
       "         6.28614419e-02,  0.00000000e+00, -2.74626679e-01,\n",
       "         1.05999898e-01,  8.94396194e-04, -1.77677296e-02,\n",
       "        -1.08806060e-01,  2.42854258e-02,  8.12731675e-02,\n",
       "         6.04697239e-02, -6.40632174e-03, -9.73306289e-02,\n",
       "        -5.15832287e-02,  0.00000000e+00,  5.77033333e-01,\n",
       "         2.24036750e-01,  4.58170751e-02,  4.28223860e-01,\n",
       "        -6.24920633e-01,  0.00000000e+00,  5.94530792e-01,\n",
       "         1.97250619e-01,  1.03955540e-01,  0.00000000e+00,\n",
       "         3.49686307e-01, -9.09033950e-02,  3.70726440e-02,\n",
       "        -2.18692354e-01,  2.47731913e-02,  3.15985766e-01,\n",
       "         8.91605505e-02,  6.14173872e-01, -5.13365457e-02,\n",
       "        -3.46120551e-02,  0.00000000e+00,  3.53010410e-01,\n",
       "         3.66318021e-02,  2.03852037e-01,  5.78939921e-01,\n",
       "         1.04641765e-01,  1.42464605e-01, -4.81402234e-02,\n",
       "         6.33882958e-01,  1.69093931e+00,  2.20886132e-01,\n",
       "         1.99543726e-01,  4.33633738e-01,  0.00000000e+00,\n",
       "        -1.61500478e+00,  1.89382365e-02,  0.00000000e+00,\n",
       "        -1.37761209e-01, -3.40245088e-01,  1.88975109e-03,\n",
       "         5.19682395e-02, -4.32956655e-01, -2.84061439e-01,\n",
       "         3.22945030e-01,  9.85847343e-01, -4.27789409e-02,\n",
       "         0.00000000e+00, -2.34092008e-02, -5.76572067e-01,\n",
       "        -8.95524243e-02, -2.39765768e-02,  4.53737397e-01,\n",
       "         5.50799698e-01,  6.12799241e-01,  1.81131685e-01,\n",
       "         2.42871580e-01,  0.00000000e+00, -4.83618887e-01,\n",
       "         0.00000000e+00,  2.95463872e-01,  5.08497507e-01,\n",
       "         2.62529457e-01,  5.34290526e-01,  1.37022481e+00,\n",
       "         1.66205700e-01, -3.30616955e-01,  1.25003788e-01,\n",
       "        -7.59204748e-02,  2.67976052e-01,  0.00000000e+00,\n",
       "         1.15259959e+00,  8.76056152e-02,  9.89229734e-01,\n",
       "         0.00000000e+00,  8.96282421e-01,  0.00000000e+00,\n",
       "         0.00000000e+00,  2.85233115e-01,  2.72674990e-02,\n",
       "         3.67611595e-01, -1.63845426e-01, -5.84003064e-03,\n",
       "        -2.35538271e-01, -1.06509323e-01,  6.14772238e-01,\n",
       "         2.09303568e-01, -1.91942656e-01,  6.78904739e-02,\n",
       "         1.09167507e-01,  8.49301364e-03,  3.60957310e-01,\n",
       "         5.86845014e-01,  4.17511544e-01,  6.58694256e-01,\n",
       "         0.00000000e+00,  1.22112477e-01, -4.04973746e-01,\n",
       "         2.17252433e-02,  2.92086341e-01,  3.08934203e-02,\n",
       "         4.43336075e-01,  4.58641659e-02,  5.82884522e-01,\n",
       "        -1.18248940e-01,  9.34350218e-01, -8.76898471e-02,\n",
       "         2.13862078e-01,  4.48395600e-01, -2.95180340e-01,\n",
       "         1.37511083e-01,  5.98966515e-01, -2.89032210e-01,\n",
       "         1.23849455e+00, -2.32200203e-01,  0.00000000e+00,\n",
       "        -1.13668049e-01, -5.91376406e-01, -9.75192858e-02,\n",
       "         7.70341177e-02,  9.20159296e-01, -2.75650769e-01,\n",
       "         0.00000000e+00,  6.13521659e-01,  2.89972718e-01,\n",
       "         0.00000000e+00,  8.06949710e-01, -1.48730982e-01,\n",
       "         1.32040785e+00,  5.25477991e-01,  1.51106563e-01,\n",
       "        -1.51863068e-01,  2.02524863e-01, -1.56145340e-01,\n",
       "         0.00000000e+00, -4.49225628e-01, -1.69328381e-01,\n",
       "         3.56141722e-01,  4.15779150e-01, -5.35786782e-01,\n",
       "        -1.80601686e-01, -3.10033199e-01, -6.04363620e-01,\n",
       "         0.00000000e+00,  5.03933979e-01,  4.96838065e-01,\n",
       "        -2.33555405e-01, -1.61544751e-01,  4.43701769e-02,\n",
       "        -1.27807736e-02, -2.57546430e-01, -4.01172892e-01,\n",
       "        -6.25868722e-01,  3.13190774e-03,  0.00000000e+00,\n",
       "         1.94806547e-01,  2.16931149e-01, -1.19640592e-01,\n",
       "         4.12966283e-01,  5.61748093e-01,  0.00000000e+00,\n",
       "        -4.26301952e-01,  4.12061856e-01,  7.29439666e-03,\n",
       "         1.61306410e-01,  2.58199786e-01,  6.72496887e-02,\n",
       "        -1.48743892e-01, -2.73950198e-01, -4.19220617e-03,\n",
       "         3.05336287e-01,  0.00000000e+00,  8.57430542e-01,\n",
       "         6.79545468e-01,  1.22480595e+00,  5.88289508e-02,\n",
       "        -1.72926299e-01,  9.28212801e-02,  1.80893297e-01,\n",
       "         1.11864117e-01, -9.19219919e-03,  3.28559929e-02,\n",
       "        -3.91232077e-01, -8.26799738e-01,  4.27790096e-01,\n",
       "        -9.52216996e-02, -3.73821822e-01,  3.59077971e-01,\n",
       "         1.72457855e-01, -9.66394276e-02,  2.51221294e-02,\n",
       "         0.00000000e+00, -1.34521578e+00,  0.00000000e+00,\n",
       "         8.27749962e-02,  5.32532949e-01, -4.58823303e-01,\n",
       "        -1.01938213e-01,  8.50747796e-02, -6.06897663e-02,\n",
       "         5.64472863e-02,  3.82974182e-01, -1.62714085e-01,\n",
       "        -3.35389086e-01, -1.12772631e-01,  9.55124109e-01,\n",
       "         1.80430427e-01, -3.13630910e-01, -5.91447528e-01,\n",
       "         1.73005398e-01,  4.01956388e-01,  0.00000000e+00,\n",
       "        -4.48520112e-01, -4.31598602e-02,  0.00000000e+00,\n",
       "        -1.21354008e-02,  8.08161478e-02, -8.08910980e-01,\n",
       "        -6.34964575e-02, -3.97271901e-01,  1.44422244e-01,\n",
       "         4.04197184e-02,  0.00000000e+00,  7.84602733e-02,\n",
       "         1.47959526e-03,  5.53483975e-01,  0.00000000e+00,\n",
       "        -4.36444172e-02, -2.96014582e-01, -3.15864934e-01,\n",
       "         1.22391470e-01, -1.57195916e-01, -5.17399622e-01,\n",
       "        -4.00038200e-01,  0.00000000e+00, -1.21984131e-01,\n",
       "         1.09232243e-02,  1.74784452e+00, -2.35897220e-01,\n",
       "         5.22786505e-01, -5.40900982e-01,  2.28734510e-01,\n",
       "         0.00000000e+00, -9.99256859e-01,  1.44986951e+00,\n",
       "         2.16259164e-01,  0.00000000e+00, -3.07234987e-01,\n",
       "         2.24831399e-01,  6.48148004e-02,  2.10077862e-01,\n",
       "         0.00000000e+00, -7.53294690e-02,  5.41676919e-02,\n",
       "        -4.24993338e-01, -3.37607851e-01,  1.67022550e-01,\n",
       "        -2.44649379e-01, -3.99967869e-01,  1.27125483e-01,\n",
       "         0.00000000e+00,  4.47754428e-01,  6.97661597e-01,\n",
       "         2.95564530e-01, -3.83633290e-01, -2.47029270e-01,\n",
       "         6.45196965e-02,  3.28823076e-02, -9.32693368e-02,\n",
       "        -5.56252705e-01, -8.42780214e-02,  0.00000000e+00,\n",
       "         1.11875548e-01,  2.57598271e-01,  1.83358743e-02,\n",
       "         3.42555464e-01,  0.00000000e+00, -6.93907507e-01,\n",
       "         1.41231228e-01,  8.86856264e-01,  5.54286114e-01,\n",
       "        -3.14156297e-01,  3.60820622e-01, -2.58640489e-01,\n",
       "        -1.02135510e-01, -4.57153264e-01,  4.91840068e-02,\n",
       "        -7.07295097e-02, -1.52123113e-01,  1.30892300e-01,\n",
       "        -3.10023200e-01, -1.99272840e-01,  0.00000000e+00,\n",
       "         6.73084200e-02,  1.02589728e-01, -2.52835428e-01,\n",
       "         0.00000000e+00, -2.16781822e-01,  3.09825928e-02,\n",
       "         0.00000000e+00, -2.22094792e-02, -1.33130185e-01,\n",
       "         4.07335819e-02,  0.00000000e+00,  1.64179653e-01,\n",
       "         8.45881732e-02, -4.33206625e-02,  2.67877220e-01,\n",
       "        -4.06301359e-01,  1.26083807e+00,  7.93833753e-01,\n",
       "         6.71856690e-02,  2.01465573e-01, -4.73277107e-01,\n",
       "        -4.08990747e-01,  7.61638270e-01,  2.21936366e-01,\n",
       "         0.00000000e+00, -1.33201034e-01,  0.00000000e+00,\n",
       "         1.37930521e-01,  0.00000000e+00,  2.27425021e-01,\n",
       "        -3.13777785e-01,  2.14165360e-01,  3.24412141e-01,\n",
       "         1.71437964e-01, -5.09137153e-02,  0.00000000e+00,\n",
       "         2.78204559e-01,  8.54314125e-01,  2.83360202e-01,\n",
       "        -1.56032078e-01,  5.38957079e-01,  0.00000000e+00,\n",
       "         3.64395279e-01,  1.00622162e-02,  6.92447794e-01,\n",
       "         2.59914221e-01, -2.17543457e-01,  2.08645866e-01,\n",
       "        -3.76593709e-01, -6.44883193e-01, -3.78974613e-01,\n",
       "        -1.21535676e-01,  8.24473388e-01,  3.10445655e-01,\n",
       "         1.29639987e-01,  2.54310662e-01,  4.42056432e-02,\n",
       "        -3.34220526e-01,  1.10127224e+00,  7.85376021e-01,\n",
       "         0.00000000e+00,  0.00000000e+00, -3.21037107e-02,\n",
       "         2.88816581e-01, -8.80195614e-01, -1.98926504e-01,\n",
       "         2.30906433e-01,  0.00000000e+00, -3.09952018e-01,\n",
       "        -2.10833952e-02,  3.55895328e-01,  2.39796416e-01,\n",
       "        -4.57845329e-02,  1.14803524e-01, -2.53367477e-01,\n",
       "        -1.14226069e-01,  3.23680622e-02, -3.31297583e-02,\n",
       "         2.11720595e-01,  0.00000000e+00,  1.95528111e-01,\n",
       "         0.00000000e+00,  1.90790413e-01,  0.00000000e+00,\n",
       "         0.00000000e+00, -2.93220100e-01,  1.75551059e-02,\n",
       "        -8.38655651e-02, -3.80414475e-01, -1.74095171e-01,\n",
       "        -2.21697912e-01,  1.35558211e-01,  1.53171693e-01,\n",
       "         2.94575269e-01,  3.06522052e-01,  3.67779760e-02,\n",
       "         1.96190195e-01, -1.08350609e-01, -4.06279123e-02,\n",
       "         4.02938880e-01,  2.16197855e-01,  4.62089981e-01,\n",
       "         1.19107911e+00, -8.25562253e-02,  5.40700483e-01,\n",
       "         5.63504013e-02, -4.63275397e-01, -4.80870178e-01,\n",
       "         3.48006084e-01,  4.74268426e-01,  0.00000000e+00,\n",
       "         1.84954121e-01,  1.38189738e+00]])"
      ]
     },
     "execution_count": 82,
     "metadata": {},
     "output_type": "execute_result"
    }
   ],
   "source": [
    "#obtaining weights of features before adding epsilon\n",
    "lr1.coef_"
   ]
  },
  {
   "cell_type": "code",
   "execution_count": 83,
   "metadata": {},
   "outputs": [
    {
     "data": {
      "text/plain": [
       "(1, 500)"
      ]
     },
     "execution_count": 83,
     "metadata": {},
     "output_type": "execute_result"
    }
   ],
   "source": [
    "lr1.coef_.shape"
   ]
  },
  {
   "cell_type": "code",
   "execution_count": 84,
   "metadata": {},
   "outputs": [
    {
     "data": {
      "text/plain": [
       "(500, 1)"
      ]
     },
     "execution_count": 84,
     "metadata": {},
     "output_type": "execute_result"
    }
   ],
   "source": [
    "# Transpose of feature weights array and taking absolute value of weights\n",
    "w_1=np.transpose(lr1.coef_)\n",
    "w1=np.abs(w_1)\n",
    "w_1.shape"
   ]
  },
  {
   "cell_type": "code",
   "execution_count": 85,
   "metadata": {},
   "outputs": [
    {
     "data": {
      "text/plain": [
       "(1,)"
      ]
     },
     "execution_count": 85,
     "metadata": {},
     "output_type": "execute_result"
    }
   ],
   "source": [
    "lr1.intercept_.shape"
   ]
  },
  {
   "cell_type": "code",
   "execution_count": 86,
   "metadata": {},
   "outputs": [
    {
     "data": {
      "text/plain": [
       "['10',\n",
       " '100',\n",
       " '12',\n",
       " '15',\n",
       " '20',\n",
       " '30',\n",
       " '50',\n",
       " 'able',\n",
       " 'absolutely',\n",
       " 'actually',\n",
       " 'add',\n",
       " 'added',\n",
       " 'ago',\n",
       " 'almost',\n",
       " 'along',\n",
       " 'already',\n",
       " 'also',\n",
       " 'alternative',\n",
       " 'although',\n",
       " 'always',\n",
       " 'amazing',\n",
       " 'amazon',\n",
       " 'amount',\n",
       " 'another',\n",
       " 'anyone',\n",
       " 'anything',\n",
       " 'aroma',\n",
       " 'around',\n",
       " 'arrived',\n",
       " 'artificial',\n",
       " 'ate',\n",
       " 'available',\n",
       " 'away',\n",
       " 'awesome',\n",
       " 'baby',\n",
       " 'back',\n",
       " 'bad',\n",
       " 'bag',\n",
       " 'bags',\n",
       " 'bar',\n",
       " 'bars',\n",
       " 'based',\n",
       " 'beans',\n",
       " 'beef',\n",
       " 'believe',\n",
       " 'best',\n",
       " 'better',\n",
       " 'big',\n",
       " 'bit',\n",
       " 'bite',\n",
       " 'bitter',\n",
       " 'black',\n",
       " 'blend',\n",
       " 'bold',\n",
       " 'bottle',\n",
       " 'bought',\n",
       " 'bowl',\n",
       " 'box',\n",
       " 'boxes',\n",
       " 'brand',\n",
       " 'brands',\n",
       " 'bread',\n",
       " 'breakfast',\n",
       " 'brew',\n",
       " 'brown',\n",
       " 'bulk',\n",
       " 'butter',\n",
       " 'buy',\n",
       " 'buying',\n",
       " 'calories',\n",
       " 'came',\n",
       " 'candy',\n",
       " 'canned',\n",
       " 'cannot',\n",
       " 'cans',\n",
       " 'care',\n",
       " 'case',\n",
       " 'cat',\n",
       " 'cats',\n",
       " 'cereal',\n",
       " 'change',\n",
       " 'cheaper',\n",
       " 'cheese',\n",
       " 'chew',\n",
       " 'chicken',\n",
       " 'chip',\n",
       " 'chips',\n",
       " 'chocolate',\n",
       " 'choice',\n",
       " 'cinnamon',\n",
       " 'clean',\n",
       " 'close',\n",
       " 'coconut',\n",
       " 'coffee',\n",
       " 'coffees',\n",
       " 'cold',\n",
       " 'com',\n",
       " 'come',\n",
       " 'comes',\n",
       " 'company',\n",
       " 'compared',\n",
       " 'convenient',\n",
       " 'cook',\n",
       " 'cookie',\n",
       " 'cookies',\n",
       " 'cooking',\n",
       " 'corn',\n",
       " 'cost',\n",
       " 'could',\n",
       " 'couple',\n",
       " 'course',\n",
       " 'cream',\n",
       " 'crunchy',\n",
       " 'cup',\n",
       " 'cups',\n",
       " 'cut',\n",
       " 'daily',\n",
       " 'dark',\n",
       " 'daughter',\n",
       " 'day',\n",
       " 'days',\n",
       " 'deal',\n",
       " 'decided',\n",
       " 'definitely',\n",
       " 'delicious',\n",
       " 'delivery',\n",
       " 'diet',\n",
       " 'difference',\n",
       " 'different',\n",
       " 'disappointed',\n",
       " 'dog',\n",
       " 'dogs',\n",
       " 'done',\n",
       " 'dried',\n",
       " 'drink',\n",
       " 'drinking',\n",
       " 'dry',\n",
       " 'due',\n",
       " 'easily',\n",
       " 'easy',\n",
       " 'eat',\n",
       " 'eaten',\n",
       " 'eating',\n",
       " 'either',\n",
       " 'else',\n",
       " 'end',\n",
       " 'energy',\n",
       " 'enjoy',\n",
       " 'enjoyed',\n",
       " 'enough',\n",
       " 'especially',\n",
       " 'etc',\n",
       " 'even',\n",
       " 'ever',\n",
       " 'every',\n",
       " 'everyone',\n",
       " 'everything',\n",
       " 'exactly',\n",
       " 'excellent',\n",
       " 'expensive',\n",
       " 'experience',\n",
       " 'extra',\n",
       " 'fact',\n",
       " 'family',\n",
       " 'fan',\n",
       " 'fantastic',\n",
       " 'far',\n",
       " 'fast',\n",
       " 'fat',\n",
       " 'favorite',\n",
       " 'feed',\n",
       " 'feel',\n",
       " 'fiber',\n",
       " 'finally',\n",
       " 'find',\n",
       " 'fine',\n",
       " 'first',\n",
       " 'flavor',\n",
       " 'flavored',\n",
       " 'flavorful',\n",
       " 'flavors',\n",
       " 'food',\n",
       " 'foods',\n",
       " 'found',\n",
       " 'four',\n",
       " 'free',\n",
       " 'fresh',\n",
       " 'friend',\n",
       " 'friends',\n",
       " 'fruit',\n",
       " 'full',\n",
       " 'gave',\n",
       " 'get',\n",
       " 'gets',\n",
       " 'getting',\n",
       " 'gift',\n",
       " 'give',\n",
       " 'gives',\n",
       " 'giving',\n",
       " 'glad',\n",
       " 'gluten',\n",
       " 'go',\n",
       " 'goes',\n",
       " 'going',\n",
       " 'gone',\n",
       " 'good',\n",
       " 'got',\n",
       " 'great',\n",
       " 'green',\n",
       " 'grocery',\n",
       " 'ground',\n",
       " 'guess',\n",
       " 'half',\n",
       " 'hand',\n",
       " 'happy',\n",
       " 'hard',\n",
       " 'health',\n",
       " 'healthier',\n",
       " 'healthy',\n",
       " 'help',\n",
       " 'helps',\n",
       " 'high',\n",
       " 'highly',\n",
       " 'home',\n",
       " 'honey',\n",
       " 'hope',\n",
       " 'hot',\n",
       " 'hours',\n",
       " 'house',\n",
       " 'however',\n",
       " 'huge',\n",
       " 'husband',\n",
       " 'ice',\n",
       " 'ingredient',\n",
       " 'ingredients',\n",
       " 'instead',\n",
       " 'item',\n",
       " 'juice',\n",
       " 'keep',\n",
       " 'kids',\n",
       " 'kind',\n",
       " 'know',\n",
       " 'large',\n",
       " 'last',\n",
       " 'later',\n",
       " 'least',\n",
       " 'left',\n",
       " 'less',\n",
       " 'let',\n",
       " 'life',\n",
       " 'light',\n",
       " 'like',\n",
       " 'liked',\n",
       " 'likes',\n",
       " 'line',\n",
       " 'list',\n",
       " 'little',\n",
       " 'live',\n",
       " 'local',\n",
       " 'long',\n",
       " 'longer',\n",
       " 'look',\n",
       " 'looking',\n",
       " 'looks',\n",
       " 'lot',\n",
       " 'lots',\n",
       " 'love',\n",
       " 'loved',\n",
       " 'loves',\n",
       " 'low',\n",
       " 'made',\n",
       " 'make',\n",
       " 'makes',\n",
       " 'making',\n",
       " 'many',\n",
       " 'market',\n",
       " 'may',\n",
       " 'maybe',\n",
       " 'meal',\n",
       " 'meat',\n",
       " 'might',\n",
       " 'mild',\n",
       " 'milk',\n",
       " 'minutes',\n",
       " 'mix',\n",
       " 'mixed',\n",
       " 'money',\n",
       " 'month',\n",
       " 'months',\n",
       " 'morning',\n",
       " 'mouth',\n",
       " 'much',\n",
       " 'must',\n",
       " 'name',\n",
       " 'natural',\n",
       " 'need',\n",
       " 'never',\n",
       " 'new',\n",
       " 'next',\n",
       " 'nice',\n",
       " 'night',\n",
       " 'non',\n",
       " 'nothing',\n",
       " 'nuts',\n",
       " 'often',\n",
       " 'oil',\n",
       " 'old',\n",
       " 'one',\n",
       " 'ones',\n",
       " 'online',\n",
       " 'open',\n",
       " 'opened',\n",
       " 'order',\n",
       " 'ordered',\n",
       " 'ordering',\n",
       " 'organic',\n",
       " 'original',\n",
       " 'others',\n",
       " 'ounce',\n",
       " 'overall',\n",
       " 'oz',\n",
       " 'pack',\n",
       " 'package',\n",
       " 'packaging',\n",
       " 'packs',\n",
       " 'part',\n",
       " 'past',\n",
       " 'pay',\n",
       " 'peanut',\n",
       " 'people',\n",
       " 'per',\n",
       " 'perfect',\n",
       " 'pet',\n",
       " 'picky',\n",
       " 'pieces',\n",
       " 'place',\n",
       " 'plain',\n",
       " 'please',\n",
       " 'pleased',\n",
       " 'plus',\n",
       " 'potato',\n",
       " 'powder',\n",
       " 'prefer',\n",
       " 'pretty',\n",
       " 'price',\n",
       " 'probably',\n",
       " 'problem',\n",
       " 'problems',\n",
       " 'product',\n",
       " 'products',\n",
       " 'protein',\n",
       " 'purchase',\n",
       " 'purchased',\n",
       " 'put',\n",
       " 'quality',\n",
       " 'quick',\n",
       " 'quickly',\n",
       " 'quite',\n",
       " 'rather',\n",
       " 'read',\n",
       " 'real',\n",
       " 'really',\n",
       " 'reason',\n",
       " 'received',\n",
       " 'recently',\n",
       " 'recipe',\n",
       " 'recommend',\n",
       " 'recommended',\n",
       " 'red',\n",
       " 'regular',\n",
       " 'review',\n",
       " 'reviews',\n",
       " 'rice',\n",
       " 'rich',\n",
       " 'right',\n",
       " 'roast',\n",
       " 'run',\n",
       " 'said',\n",
       " 'salt',\n",
       " 'salty',\n",
       " 'sauce',\n",
       " 'save',\n",
       " 'saw',\n",
       " 'say',\n",
       " 'says',\n",
       " 'second',\n",
       " 'see',\n",
       " 'seem',\n",
       " 'seems',\n",
       " 'service',\n",
       " 'serving',\n",
       " 'several',\n",
       " 'shipping',\n",
       " 'side',\n",
       " 'similar',\n",
       " 'simply',\n",
       " 'since',\n",
       " 'single',\n",
       " 'size',\n",
       " 'slightly',\n",
       " 'small',\n",
       " 'smaller',\n",
       " 'smell',\n",
       " 'smooth',\n",
       " 'snack',\n",
       " 'snacks',\n",
       " 'soft',\n",
       " 'someone',\n",
       " 'something',\n",
       " 'sometimes',\n",
       " 'son',\n",
       " 'soon',\n",
       " 'soup',\n",
       " 'soy',\n",
       " 'special',\n",
       " 'spice',\n",
       " 'spicy',\n",
       " 'star',\n",
       " 'stars',\n",
       " 'start',\n",
       " 'started',\n",
       " 'still',\n",
       " 'stomach',\n",
       " 'store',\n",
       " 'stores',\n",
       " 'strong',\n",
       " 'stuff',\n",
       " 'subscribe',\n",
       " 'sugar',\n",
       " 'super',\n",
       " 'sure',\n",
       " 'surprised',\n",
       " 'sweet',\n",
       " 'syrup',\n",
       " 'take',\n",
       " 'taste',\n",
       " 'tasted',\n",
       " 'tastes',\n",
       " 'tasting',\n",
       " 'tasty',\n",
       " 'tea',\n",
       " 'teas',\n",
       " 'teeth',\n",
       " 'tell',\n",
       " 'texture',\n",
       " 'thank',\n",
       " 'thanks',\n",
       " 'thing',\n",
       " 'things',\n",
       " 'think',\n",
       " 'though',\n",
       " 'thought',\n",
       " 'three',\n",
       " 'time',\n",
       " 'times',\n",
       " 'took',\n",
       " 'top',\n",
       " 'treat',\n",
       " 'treats',\n",
       " 'tried',\n",
       " 'try',\n",
       " 'trying',\n",
       " 'two',\n",
       " 'type',\n",
       " 'us',\n",
       " 'use',\n",
       " 'used',\n",
       " 'using',\n",
       " 'usually',\n",
       " 'value',\n",
       " 'vanilla',\n",
       " 'variety',\n",
       " 'version',\n",
       " 'vet',\n",
       " 'want',\n",
       " 'wanted',\n",
       " 'water',\n",
       " 'way',\n",
       " 'week',\n",
       " 'weeks',\n",
       " 'weight',\n",
       " 'well',\n",
       " 'went',\n",
       " 'wheat',\n",
       " 'white',\n",
       " 'whole',\n",
       " 'wife',\n",
       " 'wish',\n",
       " 'without',\n",
       " 'wonderful',\n",
       " 'work',\n",
       " 'works',\n",
       " 'worth',\n",
       " 'would',\n",
       " 'wrong',\n",
       " 'year',\n",
       " 'years',\n",
       " 'yes',\n",
       " 'yet',\n",
       " 'yummy']"
      ]
     },
     "execution_count": 86,
     "metadata": {},
     "output_type": "execute_result"
    }
   ],
   "source": [
    "#Getting feature names from Vectoriser\n",
    "\n",
    "count_vect.get_feature_names()"
   ]
  },
  {
   "cell_type": "code",
   "execution_count": 87,
   "metadata": {},
   "outputs": [
    {
     "data": {
      "text/plain": [
       "(500,)"
      ]
     },
     "execution_count": 87,
     "metadata": {},
     "output_type": "execute_result"
    }
   ],
   "source": [
    "#Converting list to array\n",
    "features=np.asarray(count_vect.get_feature_names())\n",
    "type(features)\n",
    "features.shape"
   ]
  },
  {
   "cell_type": "markdown",
   "metadata": {},
   "source": [
    "## Checking for Collinearity of features(Perturbation test)"
   ]
  },
  {
   "cell_type": "code",
   "execution_count": 88,
   "metadata": {},
   "outputs": [],
   "source": [
    "#generating epsilon of N(0,0.1)\n",
    "epsilon=np.random.normal(loc=0,scale=0.1)\n"
   ]
  },
  {
   "cell_type": "code",
   "execution_count": 89,
   "metadata": {},
   "outputs": [
    {
     "data": {
      "text/plain": [
       "0.18361599047949248"
      ]
     },
     "execution_count": 89,
     "metadata": {},
     "output_type": "execute_result"
    }
   ],
   "source": [
    "epsilon"
   ]
  },
  {
   "cell_type": "markdown",
   "metadata": {},
   "source": [
    "### Adding epsilon to our Standardized dat"
   ]
  },
  {
   "cell_type": "code",
   "execution_count": 90,
   "metadata": {},
   "outputs": [
    {
     "data": {
      "text/plain": [
       "(122500, 500)"
      ]
     },
     "execution_count": 90,
     "metadata": {},
     "output_type": "execute_result"
    }
   ],
   "source": [
    "type(x_trainvectorised)\n",
    "x_trainvectorised.shape"
   ]
  },
  {
   "cell_type": "code",
   "execution_count": 91,
   "metadata": {},
   "outputs": [
    {
     "data": {
      "text/plain": [
       "(array([     0,      0,      0, ..., 122499, 122499, 122499], dtype=int32),\n",
       " array([158, 226, 259, ..., 435, 456, 460], dtype=int32))"
      ]
     },
     "execution_count": 91,
     "metadata": {},
     "output_type": "execute_result"
    }
   ],
   "source": [
    "#finding non-zero elements positons\n",
    "x_trainvectorised.nonzero()"
   ]
  },
  {
   "cell_type": "code",
   "execution_count": 92,
   "metadata": {},
   "outputs": [
    {
     "data": {
      "text/plain": [
       "matrix([[0., 0., 0., ..., 0., 0., 0.],\n",
       "        [0., 0., 0., ..., 0., 0., 0.],\n",
       "        [0., 0., 0., ..., 0., 0., 0.],\n",
       "        ...,\n",
       "        [0., 0., 0., ..., 0., 0., 0.],\n",
       "        [0., 0., 0., ..., 0., 0., 0.],\n",
       "        [0., 0., 0., ..., 0., 0., 0.]])"
      ]
     },
     "execution_count": 92,
     "metadata": {},
     "output_type": "execute_result"
    }
   ],
   "source": [
    "#Adding epsilon by preserving sparsity source:https://stackoverflow.com/questions/45052924/scipy-csr-matrix-element-wise-addition\n",
    "\n",
    "x_data=csr_matrix(x_trainvectorised)\n",
    "x_data.todense()"
   ]
  },
  {
   "cell_type": "code",
   "execution_count": 93,
   "metadata": {},
   "outputs": [],
   "source": [
    "x_data.data=x_data.data+epsilon"
   ]
  },
  {
   "cell_type": "markdown",
   "metadata": {},
   "source": [
    "### Applying Logistic Regression on our new data(i-e data after adding epsilon)"
   ]
  },
  {
   "cell_type": "code",
   "execution_count": 94,
   "metadata": {},
   "outputs": [
    {
     "name": "stdout",
     "output_type": "stream",
     "text": [
      "446\n",
      "0.8928933333333333\n"
     ]
    }
   ],
   "source": [
    "lr6=LogisticRegression(penalty='l1',C=0.1)\n",
    "lr6.fit(x_data,y_tr)\n",
    "print(np.count_nonzero(lr6.coef_))\n",
    "print(lr6.score(x_testvectorised,y_test))"
   ]
  },
  {
   "cell_type": "code",
   "execution_count": 95,
   "metadata": {
    "scrolled": true
   },
   "outputs": [
    {
     "data": {
      "text/plain": [
       "array([[-1.74872069e-01,  0.00000000e+00, -1.94067600e-01,\n",
       "        -1.08140104e-01, -6.72886340e-02,  0.00000000e+00,\n",
       "        -4.33884028e-01,  3.01547975e-01,  0.00000000e+00,\n",
       "        -4.42328903e-02,  4.63848166e-01,  8.05423046e-02,\n",
       "        -6.59433334e-02, -4.17125531e-01,  1.50143550e-01,\n",
       "         5.65797250e-02,  4.35568383e-02,  1.24232120e-02,\n",
       "        -3.21572685e-02,  5.03653785e-01,  1.11059445e+00,\n",
       "         7.85268283e-02, -7.33693707e-02, -4.21871371e-02,\n",
       "        -7.51973458e-02, -1.77812129e-01,  0.00000000e+00,\n",
       "         1.38741292e-02, -5.55516381e-02, -4.20130781e-01,\n",
       "         0.00000000e+00,  2.97734125e-01, -7.26670415e-01,\n",
       "         1.14786128e+00, -2.34845899e-01, -2.69014857e-01,\n",
       "        -8.41836409e-01, -9.66239481e-02, -2.40872026e-01,\n",
       "         6.20304659e-02, -2.35973491e-01, -1.29386619e-01,\n",
       "         0.00000000e+00, -3.86234804e-02,  5.83863660e-03,\n",
       "         1.15632790e+00,  8.04947449e-02,  1.77313220e-02,\n",
       "         3.75960596e-01, -2.75791344e-01, -5.39904144e-01,\n",
       "         0.00000000e+00,  0.00000000e+00,  2.28998955e-01,\n",
       "        -2.78324996e-02, -3.88260235e-01,  0.00000000e+00,\n",
       "        -3.35958200e-01, -3.58508573e-01, -2.34383263e-01,\n",
       "         3.07589420e-01,  1.30123685e-01,  2.40250701e-01,\n",
       "        -6.63486067e-02, -2.44081502e-01,  3.70367410e-01,\n",
       "         1.08679936e-01, -2.74445464e-01, -1.40841622e-01,\n",
       "         4.85923975e-01,  2.02950211e-02,  8.76751002e-02,\n",
       "         2.68957415e-01, -3.12525611e-01, -3.95958812e-01,\n",
       "        -2.96100358e-01, -2.18731983e-01,  4.45878570e-01,\n",
       "         7.57190513e-02,  1.21051987e-01, -3.72941332e-01,\n",
       "         5.83965801e-02,  0.00000000e+00, -2.39906748e-01,\n",
       "         9.68003834e-02,  1.36245898e-02, -2.11450048e-02,\n",
       "        -9.81498445e-02,  3.36986051e-02,  8.00138373e-02,\n",
       "         5.87132817e-02, -1.80424563e-02, -9.27498483e-02,\n",
       "        -4.48845156e-02,  0.00000000e+00,  5.01690150e-01,\n",
       "         2.05991037e-01,  4.40405548e-02,  3.69786079e-01,\n",
       "        -5.32027397e-01,  0.00000000e+00,  5.22361841e-01,\n",
       "         1.80266183e-01,  1.01661268e-01,  0.00000000e+00,\n",
       "         3.07346876e-01, -8.16605008e-02,  3.81831950e-02,\n",
       "        -1.88400548e-01,  2.67018412e-02,  2.76443813e-01,\n",
       "         8.31612394e-02,  5.31686462e-01, -4.62158581e-02,\n",
       "        -3.18531320e-02, -8.53553064e-03,  3.10393823e-01,\n",
       "         4.20483256e-02,  1.84453326e-01,  4.93047996e-01,\n",
       "         9.55885893e-02,  1.26962536e-01, -5.06019768e-02,\n",
       "         5.42819229e-01,  1.43867799e+00,  1.98010988e-01,\n",
       "         1.72612451e-01,  3.75420472e-01, -1.33510739e-03,\n",
       "        -1.37170214e+00,  2.00674572e-02,  0.00000000e+00,\n",
       "        -1.29735011e-01, -2.98606267e-01,  3.41460284e-03,\n",
       "         5.08043924e-02, -3.75085457e-01, -2.49192950e-01,\n",
       "         2.82258499e-01,  8.38878832e-01, -3.89736777e-02,\n",
       "         0.00000000e+00, -2.41938717e-02, -4.95062739e-01,\n",
       "        -7.92507621e-02, -2.40926892e-02,  3.95257905e-01,\n",
       "         4.70630528e-01,  5.31941680e-01,  1.55415759e-01,\n",
       "         2.08219382e-01,  0.00000000e+00, -4.11473378e-01,\n",
       "         0.00000000e+00,  2.50684575e-01,  4.41595876e-01,\n",
       "         2.29526976e-01,  4.65033072e-01,  1.17020199e+00,\n",
       "         1.43920708e-01, -2.88300143e-01,  1.10722443e-01,\n",
       "        -6.98422313e-02,  2.29927317e-01,  0.00000000e+00,\n",
       "         9.98241762e-01,  7.61222718e-02,  8.48770130e-01,\n",
       "         0.00000000e+00,  7.62053491e-01,  0.00000000e+00,\n",
       "         0.00000000e+00,  2.55033742e-01,  3.36805709e-02,\n",
       "         3.12481943e-01, -1.41683713e-01, -5.30899904e-03,\n",
       "        -2.02529101e-01, -9.56465962e-02,  5.34849930e-01,\n",
       "         1.82230550e-01, -1.67473897e-01,  6.20113629e-02,\n",
       "         9.39291300e-02,  1.73920659e-02,  3.10015556e-01,\n",
       "         5.02267841e-01,  3.65447801e-01,  5.69530002e-01,\n",
       "         0.00000000e+00,  1.09111838e-01, -3.50260068e-01,\n",
       "         1.93886834e-02,  2.58069263e-01,  2.98183247e-02,\n",
       "         3.84915243e-01,  4.14435975e-02,  5.12090002e-01,\n",
       "        -1.11331858e-01,  8.05386389e-01, -8.89538473e-02,\n",
       "         1.85362898e-01,  3.90970560e-01, -2.55530944e-01,\n",
       "         1.26257156e-01,  5.08899236e-01, -2.45908699e-01,\n",
       "         1.05040947e+00, -2.02119844e-01,  0.00000000e+00,\n",
       "        -1.05246683e-01, -5.06850189e-01, -8.75987939e-02,\n",
       "         7.60610790e-02,  7.85962587e-01, -2.38885938e-01,\n",
       "         0.00000000e+00,  5.36674340e-01,  2.45780285e-01,\n",
       "         0.00000000e+00,  7.03245143e-01, -1.31954149e-01,\n",
       "         1.12672902e+00,  4.51840966e-01,  1.37488329e-01,\n",
       "        -1.39539379e-01,  1.73705702e-01, -1.44362342e-01,\n",
       "         0.00000000e+00, -3.85137817e-01, -1.53644152e-01,\n",
       "         3.07002720e-01,  3.65845607e-01, -4.59584261e-01,\n",
       "        -1.56816869e-01, -2.67111561e-01, -5.15183285e-01,\n",
       "         0.00000000e+00,  4.29915420e-01,  4.27445942e-01,\n",
       "        -2.03055128e-01, -1.38265517e-01,  4.56019017e-02,\n",
       "        -1.82551622e-02, -2.26250284e-01, -3.46218102e-01,\n",
       "        -5.37009726e-01,  4.29092664e-03,  0.00000000e+00,\n",
       "         1.72948683e-01,  1.91806506e-01, -1.01122076e-01,\n",
       "         3.57168000e-01,  4.85762891e-01,  7.05213355e-03,\n",
       "        -3.66324044e-01,  3.50750198e-01,  1.42739484e-02,\n",
       "         1.40467724e-01,  2.22941860e-01,  6.40141471e-02,\n",
       "        -1.27700673e-01, -2.37855843e-01, -1.27733088e-02,\n",
       "         2.61244573e-01,  0.00000000e+00,  7.27654638e-01,\n",
       "         5.81899371e-01,  1.04087514e+00,  5.27856526e-02,\n",
       "        -1.48445035e-01,  7.99594777e-02,  1.54967300e-01,\n",
       "         1.01503632e-01, -1.20618177e-02,  3.56847494e-02,\n",
       "        -3.34973143e-01, -7.04848662e-01,  3.75648635e-01,\n",
       "        -9.01196963e-02, -3.20486882e-01,  3.19391909e-01,\n",
       "         1.49758427e-01, -8.94171702e-02,  2.29630804e-02,\n",
       "         0.00000000e+00, -1.13971407e+00,  5.03577423e-03,\n",
       "         7.65399561e-02,  4.59702752e-01, -3.94923851e-01,\n",
       "        -8.94662375e-02,  7.87916131e-02, -5.83257159e-02,\n",
       "         5.16130695e-02,  3.27240595e-01, -1.39232816e-01,\n",
       "        -2.87630583e-01, -1.03268283e-01,  8.13861813e-01,\n",
       "         1.61978180e-01, -2.74341339e-01, -5.06205308e-01,\n",
       "         1.57940886e-01,  3.49941483e-01,  0.00000000e+00,\n",
       "        -3.85740917e-01, -3.66406401e-02,  0.00000000e+00,\n",
       "        -2.13856350e-02,  7.90212675e-02, -6.89827996e-01,\n",
       "        -5.50416805e-02, -3.37402209e-01,  1.30113781e-01,\n",
       "         3.76714625e-02,  0.00000000e+00,  7.23859962e-02,\n",
       "         1.25494333e-02,  4.82826796e-01, -5.81589596e-04,\n",
       "        -4.15455114e-02, -2.53954510e-01, -2.71493812e-01,\n",
       "         1.19545803e-01, -1.41228185e-01, -4.48339803e-01,\n",
       "        -3.48199186e-01,  0.00000000e+00, -1.06033243e-01,\n",
       "         1.19759677e-02,  1.49077024e+00, -2.14044389e-01,\n",
       "         4.54937309e-01, -4.63840646e-01,  2.02902505e-01,\n",
       "         0.00000000e+00, -8.54958002e-01,  1.24840257e+00,\n",
       "         1.87710265e-01,  0.00000000e+00, -2.70333514e-01,\n",
       "         1.95414184e-01,  5.83845987e-02,  1.78964572e-01,\n",
       "         1.99676906e-03, -6.66126961e-02,  5.40754079e-02,\n",
       "        -3.60534401e-01, -2.88204552e-01,  1.48452028e-01,\n",
       "        -2.10846964e-01, -3.40986374e-01,  1.12360077e-01,\n",
       "         0.00000000e+00,  3.87729800e-01,  6.00234761e-01,\n",
       "         2.54292368e-01, -3.30045330e-01, -2.11449615e-01,\n",
       "         6.12033981e-02,  2.88167944e-02, -8.58666800e-02,\n",
       "        -4.72440617e-01, -8.19860872e-02,  0.00000000e+00,\n",
       "         9.71480456e-02,  2.22598002e-01,  2.24974318e-02,\n",
       "         2.93452351e-01,  0.00000000e+00, -5.89059582e-01,\n",
       "         1.26828645e-01,  7.61835201e-01,  4.73549635e-01,\n",
       "        -2.82375251e-01,  3.18650509e-01, -2.23146754e-01,\n",
       "        -9.01497740e-02, -3.95090663e-01,  4.88160494e-02,\n",
       "        -7.84116845e-02, -1.35245330e-01,  1.14051289e-01,\n",
       "        -2.66821977e-01, -1.73475409e-01,  0.00000000e+00,\n",
       "         6.29512772e-02,  9.16475929e-02, -2.26121907e-01,\n",
       "         0.00000000e+00, -1.90280852e-01,  2.94836942e-02,\n",
       "         0.00000000e+00, -3.09926584e-02, -1.24724946e-01,\n",
       "         3.62218787e-02,  0.00000000e+00,  1.42708497e-01,\n",
       "         7.98576420e-02, -4.07779203e-02,  2.38766181e-01,\n",
       "        -3.49693708e-01,  1.08350958e+00,  6.75848258e-01,\n",
       "         6.79476753e-02,  1.80338961e-01, -4.07594406e-01,\n",
       "        -3.48308239e-01,  6.57947367e-01,  1.99840386e-01,\n",
       "         0.00000000e+00, -1.26450934e-01,  0.00000000e+00,\n",
       "         1.27312700e-01,  0.00000000e+00,  2.04514725e-01,\n",
       "        -2.72412409e-01,  1.91986874e-01,  2.89408248e-01,\n",
       "         1.52097132e-01, -4.56344825e-02, -1.15195177e-02,\n",
       "         2.38200820e-01,  7.31558656e-01,  2.44591184e-01,\n",
       "        -1.35719036e-01,  4.90082156e-01,  0.00000000e+00,\n",
       "         3.19886967e-01,  1.19763744e-02,  5.99405208e-01,\n",
       "         2.22161964e-01, -1.89243589e-01,  1.82032352e-01,\n",
       "        -3.19703506e-01, -5.47906828e-01, -3.22994043e-01,\n",
       "        -1.08646380e-01,  7.03006905e-01,  2.64385503e-01,\n",
       "         1.18416919e-01,  2.26289565e-01,  4.52279655e-02,\n",
       "        -2.89224705e-01,  9.49451534e-01,  6.77683552e-01,\n",
       "         0.00000000e+00,  0.00000000e+00, -2.83572451e-02,\n",
       "         2.48970455e-01, -7.48413753e-01, -1.76297813e-01,\n",
       "         1.98411743e-01, -4.00223006e-04, -2.68425473e-01,\n",
       "        -2.58860476e-02,  3.03739321e-01,  2.05355127e-01,\n",
       "        -4.02491682e-02,  9.92968464e-02, -2.17352498e-01,\n",
       "        -9.97930422e-02,  3.55515718e-02, -3.76020918e-02,\n",
       "         1.79859539e-01,  0.00000000e+00,  1.68372590e-01,\n",
       "         0.00000000e+00,  1.69276010e-01,  0.00000000e+00,\n",
       "         0.00000000e+00, -2.59168934e-01,  2.44898520e-02,\n",
       "        -7.48785592e-02, -3.27991983e-01, -1.50803001e-01,\n",
       "        -1.90507977e-01,  1.20466771e-01,  1.40932648e-01,\n",
       "         2.57993981e-01,  2.60300439e-01,  3.69558513e-02,\n",
       "         1.77827453e-01, -9.86370149e-02, -4.02375932e-02,\n",
       "         3.54333434e-01,  1.90639618e-01,  3.94426233e-01,\n",
       "         1.01661307e+00, -7.70349475e-02,  4.66913724e-01,\n",
       "         4.90466794e-02, -3.93175255e-01, -4.13921088e-01,\n",
       "         3.00473496e-01,  4.09460907e-01,  0.00000000e+00,\n",
       "         1.63423400e-01,  1.19163204e+00]])"
      ]
     },
     "execution_count": 95,
     "metadata": {},
     "output_type": "execute_result"
    }
   ],
   "source": [
    "#obtaining weights of features after adding epsilon\n",
    "lr6.coef_"
   ]
  },
  {
   "cell_type": "code",
   "execution_count": 96,
   "metadata": {},
   "outputs": [
    {
     "data": {
      "text/plain": [
       "(1, 500)"
      ]
     },
     "execution_count": 96,
     "metadata": {},
     "output_type": "execute_result"
    }
   ],
   "source": [
    "lr6.coef_.shape"
   ]
  },
  {
   "cell_type": "code",
   "execution_count": 97,
   "metadata": {},
   "outputs": [
    {
     "data": {
      "text/plain": [
       "(500, 1)"
      ]
     },
     "execution_count": 97,
     "metadata": {},
     "output_type": "execute_result"
    }
   ],
   "source": [
    "# Transpose of feature weights array and taking absolute value of weightsb\n",
    "w_2=np.transpose(lr6.coef_)\n",
    "w2=np.abs(w_2)\n",
    "w_2.shape\n"
   ]
  },
  {
   "cell_type": "code",
   "execution_count": 98,
   "metadata": {},
   "outputs": [],
   "source": [
    "# Calculating % change in Weights after adding epsilon(noise) to data\n",
    "for i in range(0,500):\n",
    "    w_change=((w_2[i]-w_1[i])/(np.abs(w_1)))*100"
   ]
  },
  {
   "cell_type": "code",
   "execution_count": 99,
   "metadata": {
    "collapsed": true
   },
   "outputs": [
    {
     "data": {
      "text/plain": [
       "array([[-9.43852884e+01],\n",
       "       [           -inf],\n",
       "       [-8.63156420e+01],\n",
       "       [-1.67462886e+02],\n",
       "       [-2.82691601e+02],\n",
       "       [           -inf],\n",
       "       [-3.80090140e+01],\n",
       "       [-5.43921510e+01],\n",
       "       [           -inf],\n",
       "       [-4.00808878e+02],\n",
       "       [-3.50546114e+01],\n",
       "       [-2.12406151e+02],\n",
       "       [-2.97052010e+02],\n",
       "       [-3.91240354e+01],\n",
       "       [-1.18373187e+02],\n",
       "       [-3.54304949e+02],\n",
       "       [-3.72894158e+02],\n",
       "       [-6.27647469e+03],\n",
       "       [-6.55995348e+02],\n",
       "       [-3.21357501e+01],\n",
       "       [-1.47523908e+01],\n",
       "       [-2.07328419e+02],\n",
       "       [-2.37223948e+02],\n",
       "       [-3.94620143e+02],\n",
       "       [-2.32395372e+02],\n",
       "       [-9.24230296e+01],\n",
       "       [           -inf],\n",
       "       [-1.70041487e+03],\n",
       "       [-3.18668567e+02],\n",
       "       [-3.90877491e+01],\n",
       "       [           -inf],\n",
       "       [-5.48898380e+01],\n",
       "       [-2.22859117e+01],\n",
       "       [-1.43208974e+01],\n",
       "       [-7.30551603e+01],\n",
       "       [-6.07247986e+01],\n",
       "       [-1.91855841e+01],\n",
       "       [-1.70090717e+02],\n",
       "       [-6.76735414e+01],\n",
       "       [-3.22994426e+02],\n",
       "       [-7.20643957e+01],\n",
       "       [-1.30297806e+02],\n",
       "       [           -inf],\n",
       "       [-5.18752738e+02],\n",
       "       [           -inf],\n",
       "       [-1.39767682e+01],\n",
       "       [-2.06735821e+02],\n",
       "       [-1.12877431e+03],\n",
       "       [-4.32235949e+01],\n",
       "       [-6.06775711e+01],\n",
       "       [-3.03241104e+01],\n",
       "       [           -inf],\n",
       "       [           -inf],\n",
       "       [-7.44704484e+01],\n",
       "       [-7.83222539e+02],\n",
       "       [-4.15996025e+01],\n",
       "       [           -inf],\n",
       "       [-4.83141103e+01],\n",
       "       [-4.58638031e+01],\n",
       "       [-6.97586358e+01],\n",
       "       [-5.38045929e+01],\n",
       "       [-1.35967912e+02],\n",
       "       [-6.90441330e+01],\n",
       "       [-3.06449133e+02],\n",
       "       [-6.98422241e+01],\n",
       "       [-4.51951245e+01],\n",
       "       [-1.55712636e+02],\n",
       "       [-5.88956032e+01],\n",
       "       [-1.17256205e+02],\n",
       "       [-3.35377599e+01],\n",
       "       [-1.02865572e+03],\n",
       "       [-2.00762444e+02],\n",
       "       [-6.28466714e+01],\n",
       "       [-5.28935119e+01],\n",
       "       [-4.16411631e+01],\n",
       "       [-5.58089141e+01],\n",
       "       [-7.50274103e+01],\n",
       "       [-3.66645744e+01],\n",
       "       [-2.34014213e+02],\n",
       "       [-1.40373371e+02],\n",
       "       [-4.43636997e+01],\n",
       "       [-3.02674164e+02],\n",
       "       [           -inf],\n",
       "       [-6.92814493e+01],\n",
       "       [-1.79495780e+02],\n",
       "       [-2.12730493e+04],\n",
       "       [-1.07084781e+03],\n",
       "       [-1.74866494e+02],\n",
       "       [-7.83454839e+02],\n",
       "       [-2.34105978e+02],\n",
       "       [-3.14645629e+02],\n",
       "       [-2.96996235e+03],\n",
       "       [-1.95483524e+02],\n",
       "       [-3.68851172e+02],\n",
       "       [           -inf],\n",
       "       [-3.29730247e+01],\n",
       "       [-8.49259523e+01],\n",
       "       [-4.15271693e+02],\n",
       "       [-4.44312803e+01],\n",
       "       [-3.04463212e+01],\n",
       "       [           -inf],\n",
       "       [-3.20026054e+01],\n",
       "       [-9.64586799e+01],\n",
       "       [-1.83025688e+02],\n",
       "       [           -inf],\n",
       "       [-5.44102928e+01],\n",
       "       [-2.09304992e+02],\n",
       "       [-5.13223021e+02],\n",
       "       [-8.70013696e+01],\n",
       "       [-7.68029201e+02],\n",
       "       [-6.02132640e+01],\n",
       "       [-2.13396331e+02],\n",
       "       [-3.09790683e+01],\n",
       "       [-3.70623580e+02],\n",
       "       [-5.49708311e+02],\n",
       "       [           -inf],\n",
       "       [-5.38979412e+01],\n",
       "       [-5.19399354e+02],\n",
       "       [-9.33350220e+01],\n",
       "       [-3.28644366e+01],\n",
       "       [-1.81825435e+02],\n",
       "       [-1.33552712e+02],\n",
       "       [-3.95231534e+02],\n",
       "       [-3.00158477e+01],\n",
       "       [-1.12520504e+01],\n",
       "       [-8.61372968e+01],\n",
       "       [-9.53502006e+01],\n",
       "       [-4.38769696e+01],\n",
       "       [           -inf],\n",
       "       [-1.17811010e+01],\n",
       "       [-1.00466241e+03],\n",
       "       [           -inf],\n",
       "       [-1.38112423e+02],\n",
       "       [-5.59200853e+01],\n",
       "       [-1.00682754e+04],\n",
       "       [-3.66118509e+02],\n",
       "       [-4.39455870e+01],\n",
       "       [-6.69803491e+01],\n",
       "       [-5.89157057e+01],\n",
       "       [-1.92996760e+01],\n",
       "       [-4.44764034e+02],\n",
       "       [           -inf],\n",
       "       [-8.12780177e+02],\n",
       "       [-3.29994036e+01],\n",
       "       [-2.12462527e+02],\n",
       "       [-7.93546741e+02],\n",
       "       [-4.19329208e+01],\n",
       "       [-3.45434727e+01],\n",
       "       [-3.10485605e+01],\n",
       "       [-1.05042551e+02],\n",
       "       [-7.83398960e+01],\n",
       "       [           -inf],\n",
       "       [-3.93420002e+01],\n",
       "       [           -inf],\n",
       "       [-6.43954681e+01],\n",
       "       [-3.74171634e+01],\n",
       "       [-7.24739027e+01],\n",
       "       [-3.56108398e+01],\n",
       "       [-1.38857027e+01],\n",
       "       [-1.14475823e+02],\n",
       "       [-5.75485740e+01],\n",
       "       [-1.52207663e+02],\n",
       "       [-2.50611372e+02],\n",
       "       [-7.10008756e+01],\n",
       "       [           -inf],\n",
       "       [-1.65074971e+01],\n",
       "       [-2.17183959e+02],\n",
       "       [-1.92336863e+01],\n",
       "       [           -inf],\n",
       "       [-2.12282802e+01],\n",
       "       [           -inf],\n",
       "       [           -inf],\n",
       "       [-6.67052082e+01],\n",
       "       [-6.97773358e+02],\n",
       "       [-5.17571660e+01],\n",
       "       [-1.16124904e+02],\n",
       "       [-3.25795111e+03],\n",
       "       [-8.07789504e+01],\n",
       "       [-1.78637266e+02],\n",
       "       [-3.09489160e+01],\n",
       "       [-9.09040133e+01],\n",
       "       [-9.91261387e+01],\n",
       "       [-2.80253373e+02],\n",
       "       [-1.74287522e+02],\n",
       "       [-2.24025713e+03],\n",
       "       [-5.27113146e+01],\n",
       "       [-3.24217364e+01],\n",
       "       [-4.55712773e+01],\n",
       "       [-2.88852289e+01],\n",
       "       [           -inf],\n",
       "       [-1.55811550e+02],\n",
       "       [-4.69821428e+01],\n",
       "       [-8.75780034e+02],\n",
       "       [-6.51401030e+01],\n",
       "       [-6.15876589e+02],\n",
       "       [-4.29167293e+01],\n",
       "       [-4.14845315e+02],\n",
       "       [-3.26420305e+01],\n",
       "       [-1.60902367e+02],\n",
       "       [-2.03633862e+01],\n",
       "       [-2.16975339e+02],\n",
       "       [-8.89663775e+01],\n",
       "       [-4.24324733e+01],\n",
       "       [-6.44573223e+01],\n",
       "       [-1.38363643e+02],\n",
       "       [-3.17656060e+01],\n",
       "       [-6.58284223e+01],\n",
       "       [-1.53626307e+01],\n",
       "       [-8.19402140e+01],\n",
       "       [           -inf],\n",
       "       [-1.67386830e+02],\n",
       "       [-3.21733064e+01],\n",
       "       [-1.95105349e+02],\n",
       "       [-2.46988411e+02],\n",
       "       [-2.06774353e+01],\n",
       "       [-6.90240567e+01],\n",
       "       [           -inf],\n",
       "       [-3.10120010e+01],\n",
       "       [-6.56149118e+01],\n",
       "       [           -inf],\n",
       "       [-2.35783396e+01],\n",
       "       [-1.27925830e+02],\n",
       "       [-1.44095889e+01],\n",
       "       [-3.62080518e+01],\n",
       "       [-1.25914679e+02],\n",
       "       [-1.25287435e+02],\n",
       "       [-9.39466596e+01],\n",
       "       [-1.21851438e+02],\n",
       "       [           -inf],\n",
       "       [-4.23540714e+01],\n",
       "       [-1.12364709e+02],\n",
       "       [-5.34240534e+01],\n",
       "       [-4.57611555e+01],\n",
       "       [-3.55113918e+01],\n",
       "       [-1.05350813e+02],\n",
       "       [-6.13693450e+01],\n",
       "       [-3.14819319e+01],\n",
       "       [           -inf],\n",
       "       [-3.77560060e+01],\n",
       "       [-3.82952428e+01],\n",
       "       [-8.14647571e+01],\n",
       "       [-1.17778722e+02],\n",
       "       [-4.28813578e+02],\n",
       "       [-1.48868410e+03],\n",
       "       [-7.38761332e+01],\n",
       "       [-4.74272682e+01],\n",
       "       [-3.04002000e+01],\n",
       "       [-6.07506221e+03],\n",
       "       [           -inf],\n",
       "       [-9.76688649e+01],\n",
       "       [-8.77077102e+01],\n",
       "       [-1.59030761e+02],\n",
       "       [-4.60728517e+01],\n",
       "       [-3.38702251e+01],\n",
       "       [           -inf],\n",
       "       [-4.46315909e+01],\n",
       "       [-4.61739762e+01],\n",
       "       [-2.60837671e+03],\n",
       "       [-1.17952748e+02],\n",
       "       [-7.36891949e+01],\n",
       "       [-2.82923753e+02],\n",
       "       [-1.27914727e+02],\n",
       "       [-6.94525300e+01],\n",
       "       [-4.53854929e+03],\n",
       "       [-6.23133742e+01],\n",
       "       [           -inf],\n",
       "       [-2.21901756e+01],\n",
       "       [-2.79989129e+01],\n",
       "       [-1.55343256e+01],\n",
       "       [-3.23421276e+02],\n",
       "       [-1.10026841e+02],\n",
       "       [-2.04980305e+02],\n",
       "       [-1.05180981e+02],\n",
       "       [-1.70086127e+02],\n",
       "       [-2.06985662e+03],\n",
       "       [-5.79088703e+02],\n",
       "       [-4.86323475e+01],\n",
       "       [-2.30122646e+01],\n",
       "       [-4.44763320e+01],\n",
       "       [-1.99813009e+02],\n",
       "       [-5.08973346e+01],\n",
       "       [-5.29871946e+01],\n",
       "       [-1.10325704e+02],\n",
       "       [-1.96881695e+02],\n",
       "       [-7.57361530e+02],\n",
       "       [           -inf],\n",
       "       [-1.41438531e+01],\n",
       "       [           -inf],\n",
       "       [-2.29858474e+02],\n",
       "       [-3.57283702e+01],\n",
       "       [-4.14681081e+01],\n",
       "       [-1.86647712e+02],\n",
       "       [-2.23644827e+02],\n",
       "       [-3.13504821e+02],\n",
       "       [-3.37067299e+02],\n",
       "       [-4.96809843e+01],\n",
       "       [-1.16932313e+02],\n",
       "       [-5.67297361e+01],\n",
       "       [-1.68715885e+02],\n",
       "       [-1.99204838e+01],\n",
       "       [-1.05450808e+02],\n",
       "       [-6.06653672e+01],\n",
       "       [-3.21694376e+01],\n",
       "       [-1.09976536e+02],\n",
       "       [-4.73348227e+01],\n",
       "       [           -inf],\n",
       "       [-4.24206938e+01],\n",
       "       [-4.40838646e+02],\n",
       "       [           -inf],\n",
       "       [-1.56785381e+03],\n",
       "       [-2.35429860e+02],\n",
       "       [-2.35211721e+01],\n",
       "       [-2.99647178e+02],\n",
       "       [-4.78929778e+01],\n",
       "       [-1.31742409e+02],\n",
       "       [-4.70724070e+02],\n",
       "       [           -inf],\n",
       "       [-2.42498956e+02],\n",
       "       [-1.28592831e+04],\n",
       "       [-3.43759444e+01],\n",
       "       [           -inf],\n",
       "       [-4.35944287e+02],\n",
       "       [-6.42756658e+01],\n",
       "       [-6.02362981e+01],\n",
       "       [-1.55456376e+02],\n",
       "       [-1.21037078e+02],\n",
       "       [-3.67733827e+01],\n",
       "       [-4.75617937e+01],\n",
       "       [           -inf],\n",
       "       [-1.55975487e+02],\n",
       "       [-1.74184232e+03],\n",
       "       [-1.08857133e+01],\n",
       "       [-8.06560345e+01],\n",
       "       [-3.63944634e+01],\n",
       "       [-3.51756329e+01],\n",
       "       [-8.31817390e+01],\n",
       "       [           -inf],\n",
       "       [-1.90406843e+01],\n",
       "       [-1.31229288e+01],\n",
       "       [-8.79802456e+01],\n",
       "       [           -inf],\n",
       "       [-6.19282802e+01],\n",
       "       [-8.46257881e+01],\n",
       "       [-2.93552309e+02],\n",
       "       [-9.05689642e+01],\n",
       "       [           -inf],\n",
       "       [-2.52577571e+02],\n",
       "       [-3.51252447e+02],\n",
       "       [-4.47690179e+01],\n",
       "       [-5.63569072e+01],\n",
       "       [-1.13915962e+02],\n",
       "       [-7.77706217e+01],\n",
       "       [-4.75701570e+01],\n",
       "       [-1.49667352e+02],\n",
       "       [           -inf],\n",
       "       [-4.24932355e+01],\n",
       "       [-2.72718671e+01],\n",
       "       [-6.43735375e+01],\n",
       "       [-4.95956290e+01],\n",
       "       [-7.70213762e+01],\n",
       "       [-2.94894976e+02],\n",
       "       [-5.78625277e+02],\n",
       "       [-2.03995600e+02],\n",
       "       [-3.42048392e+01],\n",
       "       [-2.25759148e+02],\n",
       "       [           -inf],\n",
       "       [-1.70068748e+02],\n",
       "       [-7.38612656e+01],\n",
       "       [-1.03766714e+03],\n",
       "       [-5.55429305e+01],\n",
       "       [           -inf],\n",
       "       [-2.74194099e+01],\n",
       "       [-1.34719032e+02],\n",
       "       [-2.14539099e+01],\n",
       "       [-3.43261970e+01],\n",
       "       [-6.05639121e+01],\n",
       "       [-5.27312830e+01],\n",
       "       [-7.35636343e+01],\n",
       "       [-1.86287163e+02],\n",
       "       [-4.16195964e+01],\n",
       "       [-3.86843927e+02],\n",
       "       [-2.69004188e+02],\n",
       "       [-1.25073264e+02],\n",
       "       [-1.45360226e+02],\n",
       "       [-6.13713243e+01],\n",
       "       [-9.54798172e+01],\n",
       "       [           -inf],\n",
       "       [-2.82676883e+02],\n",
       "       [-1.85462372e+02],\n",
       "       [-7.52526435e+01],\n",
       "       [           -inf],\n",
       "       [-8.77681264e+01],\n",
       "       [-6.14104005e+02],\n",
       "       [           -inf],\n",
       "       [-8.56685301e+02],\n",
       "       [-1.42916757e+02],\n",
       "       [-4.67097011e+02],\n",
       "       [           -inf],\n",
       "       [-1.15888504e+02],\n",
       "       [-2.24931378e+02],\n",
       "       [-4.39202294e+02],\n",
       "       [-7.10270710e+01],\n",
       "       [-4.68286259e+01],\n",
       "       [-1.50903869e+01],\n",
       "       [-2.39679080e+01],\n",
       "       [-2.83193345e+02],\n",
       "       [-9.44406233e+01],\n",
       "       [-4.02016790e+01],\n",
       "       [-4.65206963e+01],\n",
       "       [-2.49810639e+01],\n",
       "       [-8.57296830e+01],\n",
       "       [           -inf],\n",
       "       [-1.42840741e+02],\n",
       "       [           -inf],\n",
       "       [-1.37942887e+02],\n",
       "       [           -inf],\n",
       "       [-8.36606906e+01],\n",
       "       [-6.06369707e+01],\n",
       "       [-8.88403909e+01],\n",
       "       [-5.86492671e+01],\n",
       "       [-1.10982036e+02],\n",
       "       [-3.73701550e+02],\n",
       "       [           -inf],\n",
       "       [-6.83904477e+01],\n",
       "       [-2.22711223e+01],\n",
       "       [-6.71461066e+01],\n",
       "       [-1.21939889e+02],\n",
       "       [-3.53025038e+01],\n",
       "       [           -inf],\n",
       "       [-5.22139979e+01],\n",
       "       [-1.89088903e+03],\n",
       "       [-2.74772113e+01],\n",
       "       [-7.32031293e+01],\n",
       "       [-8.74608439e+01],\n",
       "       [-9.11905646e+01],\n",
       "       [-5.05227090e+01],\n",
       "       [-2.95038459e+01],\n",
       "       [-5.02053005e+01],\n",
       "       [-1.56551022e+02],\n",
       "       [-2.30771964e+01],\n",
       "       [-6.12878100e+01],\n",
       "       [-1.46764396e+02],\n",
       "       [-7.48161096e+01],\n",
       "       [-4.30409626e+02],\n",
       "       [-5.69280845e+01],\n",
       "       [-1.72768673e+01],\n",
       "       [-2.42260189e+01],\n",
       "       [           -inf],\n",
       "       [           -inf],\n",
       "       [-5.92658417e+02],\n",
       "       [-6.58775692e+01],\n",
       "       [-2.16162567e+01],\n",
       "       [-9.56460498e+01],\n",
       "       [-8.23993256e+01],\n",
       "       [           -inf],\n",
       "       [-6.13854186e+01],\n",
       "       [-9.02441669e+02],\n",
       "       [-5.34610399e+01],\n",
       "       [-7.93445317e+01],\n",
       "       [-4.15566855e+02],\n",
       "       [-1.65731275e+02],\n",
       "       [-7.50946198e+01],\n",
       "       [-1.66569107e+02],\n",
       "       [-5.87818146e+02],\n",
       "       [-5.74303446e+02],\n",
       "       [-8.98662426e+01],\n",
       "       [           -inf],\n",
       "       [-9.73084341e+01],\n",
       "       [           -inf],\n",
       "       [-9.97247923e+01],\n",
       "       [           -inf],\n",
       "       [           -inf],\n",
       "       [-6.48882337e+01],\n",
       "       [-1.08381769e+03],\n",
       "       [-2.26869446e+02],\n",
       "       [-5.00152744e+01],\n",
       "       [-1.09288122e+02],\n",
       "       [-8.58218925e+01],\n",
       "       [-1.40356930e+02],\n",
       "       [-1.24217040e+02],\n",
       "       [-6.45897207e+01],\n",
       "       [-6.20723181e+01],\n",
       "       [-5.17335003e+02],\n",
       "       [-9.69800468e+01],\n",
       "       [-1.75601545e+02],\n",
       "       [-4.68311888e+02],\n",
       "       [-4.72194054e+01],\n",
       "       [-8.80051947e+01],\n",
       "       [-4.11749553e+01],\n",
       "       [-1.59741987e+01],\n",
       "       [-2.30467591e+02],\n",
       "       [-3.51886764e+01],\n",
       "       [-3.37646830e+02],\n",
       "       [-4.10695980e+01],\n",
       "       [-3.95668835e+01],\n",
       "       [-5.46729934e+01],\n",
       "       [-4.01176492e+01],\n",
       "       [           -inf],\n",
       "       [-1.02871643e+02],\n",
       "       [-1.37684133e+01]])"
      ]
     },
     "execution_count": 99,
     "metadata": {},
     "output_type": "execute_result"
    }
   ],
   "source": [
    "w_change"
   ]
  },
  {
   "cell_type": "code",
   "execution_count": 100,
   "metadata": {},
   "outputs": [],
   "source": [
    "#combining to arrays of weights \n",
    "w=np.concatenate((w1,w2,w_change),axis=1)"
   ]
  },
  {
   "cell_type": "markdown",
   "metadata": {},
   "source": [
    "## Creating Dataframe that contains features and their  weights(w1,w2)\n",
    "\n",
    "* w1=weights before adding epsilon\n",
    "* w2=weights after adding epsilon\n",
    "* w=%change in weights"
   ]
  },
  {
   "cell_type": "code",
   "execution_count": 101,
   "metadata": {
    "scrolled": true
   },
   "outputs": [
    {
     "data": {
      "text/html": [
       "<div>\n",
       "<style scoped>\n",
       "    .dataframe tbody tr th:only-of-type {\n",
       "        vertical-align: middle;\n",
       "    }\n",
       "\n",
       "    .dataframe tbody tr th {\n",
       "        vertical-align: top;\n",
       "    }\n",
       "\n",
       "    .dataframe thead th {\n",
       "        text-align: right;\n",
       "    }\n",
       "</style>\n",
       "<table border=\"1\" class=\"dataframe\">\n",
       "  <thead>\n",
       "    <tr style=\"text-align: right;\">\n",
       "      <th></th>\n",
       "      <th>w1</th>\n",
       "      <th>w2</th>\n",
       "      <th>w_change</th>\n",
       "    </tr>\n",
       "  </thead>\n",
       "  <tbody>\n",
       "    <tr>\n",
       "      <th>10</th>\n",
       "      <td>0.201584</td>\n",
       "      <td>0.174872</td>\n",
       "      <td>-94.385288</td>\n",
       "    </tr>\n",
       "    <tr>\n",
       "      <th>100</th>\n",
       "      <td>0.000000</td>\n",
       "      <td>0.000000</td>\n",
       "      <td>-inf</td>\n",
       "    </tr>\n",
       "    <tr>\n",
       "      <th>12</th>\n",
       "      <td>0.220430</td>\n",
       "      <td>0.194068</td>\n",
       "      <td>-86.315642</td>\n",
       "    </tr>\n",
       "    <tr>\n",
       "      <th>15</th>\n",
       "      <td>0.113616</td>\n",
       "      <td>0.108140</td>\n",
       "      <td>-167.462886</td>\n",
       "    </tr>\n",
       "    <tr>\n",
       "      <th>20</th>\n",
       "      <td>0.067305</td>\n",
       "      <td>0.067289</td>\n",
       "      <td>-282.691601</td>\n",
       "    </tr>\n",
       "    <tr>\n",
       "      <th>30</th>\n",
       "      <td>0.000000</td>\n",
       "      <td>0.000000</td>\n",
       "      <td>-inf</td>\n",
       "    </tr>\n",
       "    <tr>\n",
       "      <th>50</th>\n",
       "      <td>0.500580</td>\n",
       "      <td>0.433884</td>\n",
       "      <td>-38.009014</td>\n",
       "    </tr>\n",
       "    <tr>\n",
       "      <th>able</th>\n",
       "      <td>0.349803</td>\n",
       "      <td>0.301548</td>\n",
       "      <td>-54.392151</td>\n",
       "    </tr>\n",
       "    <tr>\n",
       "      <th>absolutely</th>\n",
       "      <td>0.000000</td>\n",
       "      <td>0.000000</td>\n",
       "      <td>-inf</td>\n",
       "    </tr>\n",
       "    <tr>\n",
       "      <th>actually</th>\n",
       "      <td>0.047470</td>\n",
       "      <td>0.044233</td>\n",
       "      <td>-400.808878</td>\n",
       "    </tr>\n",
       "    <tr>\n",
       "      <th>add</th>\n",
       "      <td>0.542768</td>\n",
       "      <td>0.463848</td>\n",
       "      <td>-35.054611</td>\n",
       "    </tr>\n",
       "    <tr>\n",
       "      <th>added</th>\n",
       "      <td>0.089576</td>\n",
       "      <td>0.080542</td>\n",
       "      <td>-212.406151</td>\n",
       "    </tr>\n",
       "    <tr>\n",
       "      <th>ago</th>\n",
       "      <td>0.064051</td>\n",
       "      <td>0.065943</td>\n",
       "      <td>-297.052010</td>\n",
       "    </tr>\n",
       "    <tr>\n",
       "      <th>almost</th>\n",
       "      <td>0.486313</td>\n",
       "      <td>0.417126</td>\n",
       "      <td>-39.124035</td>\n",
       "    </tr>\n",
       "    <tr>\n",
       "      <th>along</th>\n",
       "      <td>0.160733</td>\n",
       "      <td>0.150144</td>\n",
       "      <td>-118.373187</td>\n",
       "    </tr>\n",
       "    <tr>\n",
       "      <th>already</th>\n",
       "      <td>0.053701</td>\n",
       "      <td>0.056580</td>\n",
       "      <td>-354.304949</td>\n",
       "    </tr>\n",
       "    <tr>\n",
       "      <th>also</th>\n",
       "      <td>0.051024</td>\n",
       "      <td>0.043557</td>\n",
       "      <td>-372.894158</td>\n",
       "    </tr>\n",
       "    <tr>\n",
       "      <th>alternative</th>\n",
       "      <td>0.003031</td>\n",
       "      <td>0.012423</td>\n",
       "      <td>-6276.474692</td>\n",
       "    </tr>\n",
       "    <tr>\n",
       "      <th>although</th>\n",
       "      <td>0.029004</td>\n",
       "      <td>0.032157</td>\n",
       "      <td>-655.995348</td>\n",
       "    </tr>\n",
       "    <tr>\n",
       "      <th>always</th>\n",
       "      <td>0.592068</td>\n",
       "      <td>0.503654</td>\n",
       "      <td>-32.135750</td>\n",
       "    </tr>\n",
       "    <tr>\n",
       "      <th>amazing</th>\n",
       "      <td>1.289725</td>\n",
       "      <td>1.110594</td>\n",
       "      <td>-14.752391</td>\n",
       "    </tr>\n",
       "    <tr>\n",
       "      <th>amazon</th>\n",
       "      <td>0.091770</td>\n",
       "      <td>0.078527</td>\n",
       "      <td>-207.328419</td>\n",
       "    </tr>\n",
       "    <tr>\n",
       "      <th>amount</th>\n",
       "      <td>0.080205</td>\n",
       "      <td>0.073369</td>\n",
       "      <td>-237.223948</td>\n",
       "    </tr>\n",
       "    <tr>\n",
       "      <th>another</th>\n",
       "      <td>0.048215</td>\n",
       "      <td>0.042187</td>\n",
       "      <td>-394.620143</td>\n",
       "    </tr>\n",
       "    <tr>\n",
       "      <th>anyone</th>\n",
       "      <td>0.081871</td>\n",
       "      <td>0.075197</td>\n",
       "      <td>-232.395372</td>\n",
       "    </tr>\n",
       "    <tr>\n",
       "      <th>anything</th>\n",
       "      <td>0.205864</td>\n",
       "      <td>0.177812</td>\n",
       "      <td>-92.423030</td>\n",
       "    </tr>\n",
       "    <tr>\n",
       "      <th>aroma</th>\n",
       "      <td>0.000000</td>\n",
       "      <td>0.000000</td>\n",
       "      <td>-inf</td>\n",
       "    </tr>\n",
       "    <tr>\n",
       "      <th>around</th>\n",
       "      <td>0.011189</td>\n",
       "      <td>0.013874</td>\n",
       "      <td>-1700.414872</td>\n",
       "    </tr>\n",
       "    <tr>\n",
       "      <th>arrived</th>\n",
       "      <td>0.059706</td>\n",
       "      <td>0.055552</td>\n",
       "      <td>-318.668567</td>\n",
       "    </tr>\n",
       "    <tr>\n",
       "      <th>artificial</th>\n",
       "      <td>0.486765</td>\n",
       "      <td>0.420131</td>\n",
       "      <td>-39.087749</td>\n",
       "    </tr>\n",
       "    <tr>\n",
       "      <th>...</th>\n",
       "      <td>...</td>\n",
       "      <td>...</td>\n",
       "      <td>...</td>\n",
       "    </tr>\n",
       "    <tr>\n",
       "      <th>vanilla</th>\n",
       "      <td>0.000000</td>\n",
       "      <td>0.000000</td>\n",
       "      <td>-inf</td>\n",
       "    </tr>\n",
       "    <tr>\n",
       "      <th>variety</th>\n",
       "      <td>0.000000</td>\n",
       "      <td>0.000000</td>\n",
       "      <td>-inf</td>\n",
       "    </tr>\n",
       "    <tr>\n",
       "      <th>version</th>\n",
       "      <td>0.293220</td>\n",
       "      <td>0.259169</td>\n",
       "      <td>-64.888234</td>\n",
       "    </tr>\n",
       "    <tr>\n",
       "      <th>vet</th>\n",
       "      <td>0.017555</td>\n",
       "      <td>0.024490</td>\n",
       "      <td>-1083.817691</td>\n",
       "    </tr>\n",
       "    <tr>\n",
       "      <th>want</th>\n",
       "      <td>0.083866</td>\n",
       "      <td>0.074879</td>\n",
       "      <td>-226.869446</td>\n",
       "    </tr>\n",
       "    <tr>\n",
       "      <th>wanted</th>\n",
       "      <td>0.380414</td>\n",
       "      <td>0.327992</td>\n",
       "      <td>-50.015274</td>\n",
       "    </tr>\n",
       "    <tr>\n",
       "      <th>water</th>\n",
       "      <td>0.174095</td>\n",
       "      <td>0.150803</td>\n",
       "      <td>-109.288122</td>\n",
       "    </tr>\n",
       "    <tr>\n",
       "      <th>way</th>\n",
       "      <td>0.221698</td>\n",
       "      <td>0.190508</td>\n",
       "      <td>-85.821892</td>\n",
       "    </tr>\n",
       "    <tr>\n",
       "      <th>week</th>\n",
       "      <td>0.135558</td>\n",
       "      <td>0.120467</td>\n",
       "      <td>-140.356930</td>\n",
       "    </tr>\n",
       "    <tr>\n",
       "      <th>weeks</th>\n",
       "      <td>0.153172</td>\n",
       "      <td>0.140933</td>\n",
       "      <td>-124.217040</td>\n",
       "    </tr>\n",
       "    <tr>\n",
       "      <th>weight</th>\n",
       "      <td>0.294575</td>\n",
       "      <td>0.257994</td>\n",
       "      <td>-64.589721</td>\n",
       "    </tr>\n",
       "    <tr>\n",
       "      <th>well</th>\n",
       "      <td>0.306522</td>\n",
       "      <td>0.260300</td>\n",
       "      <td>-62.072318</td>\n",
       "    </tr>\n",
       "    <tr>\n",
       "      <th>went</th>\n",
       "      <td>0.036778</td>\n",
       "      <td>0.036956</td>\n",
       "      <td>-517.335003</td>\n",
       "    </tr>\n",
       "    <tr>\n",
       "      <th>wheat</th>\n",
       "      <td>0.196190</td>\n",
       "      <td>0.177827</td>\n",
       "      <td>-96.980047</td>\n",
       "    </tr>\n",
       "    <tr>\n",
       "      <th>white</th>\n",
       "      <td>0.108351</td>\n",
       "      <td>0.098637</td>\n",
       "      <td>-175.601545</td>\n",
       "    </tr>\n",
       "    <tr>\n",
       "      <th>whole</th>\n",
       "      <td>0.040628</td>\n",
       "      <td>0.040238</td>\n",
       "      <td>-468.311888</td>\n",
       "    </tr>\n",
       "    <tr>\n",
       "      <th>wife</th>\n",
       "      <td>0.402939</td>\n",
       "      <td>0.354333</td>\n",
       "      <td>-47.219405</td>\n",
       "    </tr>\n",
       "    <tr>\n",
       "      <th>wish</th>\n",
       "      <td>0.216198</td>\n",
       "      <td>0.190640</td>\n",
       "      <td>-88.005195</td>\n",
       "    </tr>\n",
       "    <tr>\n",
       "      <th>without</th>\n",
       "      <td>0.462090</td>\n",
       "      <td>0.394426</td>\n",
       "      <td>-41.174955</td>\n",
       "    </tr>\n",
       "    <tr>\n",
       "      <th>wonderful</th>\n",
       "      <td>1.191079</td>\n",
       "      <td>1.016613</td>\n",
       "      <td>-15.974199</td>\n",
       "    </tr>\n",
       "    <tr>\n",
       "      <th>work</th>\n",
       "      <td>0.082556</td>\n",
       "      <td>0.077035</td>\n",
       "      <td>-230.467591</td>\n",
       "    </tr>\n",
       "    <tr>\n",
       "      <th>works</th>\n",
       "      <td>0.540700</td>\n",
       "      <td>0.466914</td>\n",
       "      <td>-35.188676</td>\n",
       "    </tr>\n",
       "    <tr>\n",
       "      <th>worth</th>\n",
       "      <td>0.056350</td>\n",
       "      <td>0.049047</td>\n",
       "      <td>-337.646830</td>\n",
       "    </tr>\n",
       "    <tr>\n",
       "      <th>would</th>\n",
       "      <td>0.463275</td>\n",
       "      <td>0.393175</td>\n",
       "      <td>-41.069598</td>\n",
       "    </tr>\n",
       "    <tr>\n",
       "      <th>wrong</th>\n",
       "      <td>0.480870</td>\n",
       "      <td>0.413921</td>\n",
       "      <td>-39.566884</td>\n",
       "    </tr>\n",
       "    <tr>\n",
       "      <th>year</th>\n",
       "      <td>0.348006</td>\n",
       "      <td>0.300473</td>\n",
       "      <td>-54.672993</td>\n",
       "    </tr>\n",
       "    <tr>\n",
       "      <th>years</th>\n",
       "      <td>0.474268</td>\n",
       "      <td>0.409461</td>\n",
       "      <td>-40.117649</td>\n",
       "    </tr>\n",
       "    <tr>\n",
       "      <th>yes</th>\n",
       "      <td>0.000000</td>\n",
       "      <td>0.000000</td>\n",
       "      <td>-inf</td>\n",
       "    </tr>\n",
       "    <tr>\n",
       "      <th>yet</th>\n",
       "      <td>0.184954</td>\n",
       "      <td>0.163423</td>\n",
       "      <td>-102.871643</td>\n",
       "    </tr>\n",
       "    <tr>\n",
       "      <th>yummy</th>\n",
       "      <td>1.381897</td>\n",
       "      <td>1.191632</td>\n",
       "      <td>-13.768413</td>\n",
       "    </tr>\n",
       "  </tbody>\n",
       "</table>\n",
       "<p>500 rows × 3 columns</p>\n",
       "</div>"
      ],
      "text/plain": [
       "                   w1        w2     w_change\n",
       "10           0.201584  0.174872   -94.385288\n",
       "100          0.000000  0.000000         -inf\n",
       "12           0.220430  0.194068   -86.315642\n",
       "15           0.113616  0.108140  -167.462886\n",
       "20           0.067305  0.067289  -282.691601\n",
       "30           0.000000  0.000000         -inf\n",
       "50           0.500580  0.433884   -38.009014\n",
       "able         0.349803  0.301548   -54.392151\n",
       "absolutely   0.000000  0.000000         -inf\n",
       "actually     0.047470  0.044233  -400.808878\n",
       "add          0.542768  0.463848   -35.054611\n",
       "added        0.089576  0.080542  -212.406151\n",
       "ago          0.064051  0.065943  -297.052010\n",
       "almost       0.486313  0.417126   -39.124035\n",
       "along        0.160733  0.150144  -118.373187\n",
       "already      0.053701  0.056580  -354.304949\n",
       "also         0.051024  0.043557  -372.894158\n",
       "alternative  0.003031  0.012423 -6276.474692\n",
       "although     0.029004  0.032157  -655.995348\n",
       "always       0.592068  0.503654   -32.135750\n",
       "amazing      1.289725  1.110594   -14.752391\n",
       "amazon       0.091770  0.078527  -207.328419\n",
       "amount       0.080205  0.073369  -237.223948\n",
       "another      0.048215  0.042187  -394.620143\n",
       "anyone       0.081871  0.075197  -232.395372\n",
       "anything     0.205864  0.177812   -92.423030\n",
       "aroma        0.000000  0.000000         -inf\n",
       "around       0.011189  0.013874 -1700.414872\n",
       "arrived      0.059706  0.055552  -318.668567\n",
       "artificial   0.486765  0.420131   -39.087749\n",
       "...               ...       ...          ...\n",
       "vanilla      0.000000  0.000000         -inf\n",
       "variety      0.000000  0.000000         -inf\n",
       "version      0.293220  0.259169   -64.888234\n",
       "vet          0.017555  0.024490 -1083.817691\n",
       "want         0.083866  0.074879  -226.869446\n",
       "wanted       0.380414  0.327992   -50.015274\n",
       "water        0.174095  0.150803  -109.288122\n",
       "way          0.221698  0.190508   -85.821892\n",
       "week         0.135558  0.120467  -140.356930\n",
       "weeks        0.153172  0.140933  -124.217040\n",
       "weight       0.294575  0.257994   -64.589721\n",
       "well         0.306522  0.260300   -62.072318\n",
       "went         0.036778  0.036956  -517.335003\n",
       "wheat        0.196190  0.177827   -96.980047\n",
       "white        0.108351  0.098637  -175.601545\n",
       "whole        0.040628  0.040238  -468.311888\n",
       "wife         0.402939  0.354333   -47.219405\n",
       "wish         0.216198  0.190640   -88.005195\n",
       "without      0.462090  0.394426   -41.174955\n",
       "wonderful    1.191079  1.016613   -15.974199\n",
       "work         0.082556  0.077035  -230.467591\n",
       "works        0.540700  0.466914   -35.188676\n",
       "worth        0.056350  0.049047  -337.646830\n",
       "would        0.463275  0.393175   -41.069598\n",
       "wrong        0.480870  0.413921   -39.566884\n",
       "year         0.348006  0.300473   -54.672993\n",
       "years        0.474268  0.409461   -40.117649\n",
       "yes          0.000000  0.000000         -inf\n",
       "yet          0.184954  0.163423  -102.871643\n",
       "yummy        1.381897  1.191632   -13.768413\n",
       "\n",
       "[500 rows x 3 columns]"
      ]
     },
     "execution_count": 101,
     "metadata": {},
     "output_type": "execute_result"
    }
   ],
   "source": [
    "df=pd.DataFrame(data=w,index=features,columns=['w1','w2','w_change'])\n",
    "df"
   ]
  },
  {
   "cell_type": "markdown",
   "metadata": {},
   "source": [
    "## Creating Dataframe that contains features and their respective  weights for feature importance"
   ]
  },
  {
   "cell_type": "code",
   "execution_count": 72,
   "metadata": {
    "scrolled": true
   },
   "outputs": [],
   "source": [
    "df2=pd.DataFrame(data=w_1,index=features,columns=['w1'])\n"
   ]
  },
  {
   "cell_type": "code",
   "execution_count": 69,
   "metadata": {},
   "outputs": [
    {
     "data": {
      "text/html": [
       "<div>\n",
       "<style scoped>\n",
       "    .dataframe tbody tr th:only-of-type {\n",
       "        vertical-align: middle;\n",
       "    }\n",
       "\n",
       "    .dataframe tbody tr th {\n",
       "        vertical-align: top;\n",
       "    }\n",
       "\n",
       "    .dataframe thead th {\n",
       "        text-align: right;\n",
       "    }\n",
       "</style>\n",
       "<table border=\"1\" class=\"dataframe\">\n",
       "  <thead>\n",
       "    <tr style=\"text-align: right;\">\n",
       "      <th></th>\n",
       "      <th>w1</th>\n",
       "    </tr>\n",
       "  </thead>\n",
       "  <tbody>\n",
       "    <tr>\n",
       "      <th>disappointed</th>\n",
       "      <td>-1.614880</td>\n",
       "    </tr>\n",
       "    <tr>\n",
       "      <th>money</th>\n",
       "      <td>-1.345279</td>\n",
       "    </tr>\n",
       "    <tr>\n",
       "      <th>please</th>\n",
       "      <td>-0.999271</td>\n",
       "    </tr>\n",
       "    <tr>\n",
       "      <th>bad</th>\n",
       "      <td>-0.991652</td>\n",
       "    </tr>\n",
       "    <tr>\n",
       "      <th>thought</th>\n",
       "      <td>-0.880215</td>\n",
       "    </tr>\n",
       "    <tr>\n",
       "      <th>away</th>\n",
       "      <td>-0.853694</td>\n",
       "    </tr>\n",
       "    <tr>\n",
       "      <th>maybe</th>\n",
       "      <td>-0.826777</td>\n",
       "    </tr>\n",
       "    <tr>\n",
       "      <th>opened</th>\n",
       "      <td>-0.808896</td>\n",
       "    </tr>\n",
       "    <tr>\n",
       "      <th>reviews</th>\n",
       "      <td>-0.693891</td>\n",
       "    </tr>\n",
       "    <tr>\n",
       "      <th>tasted</th>\n",
       "      <td>-0.644872</td>\n",
       "    </tr>\n",
       "    <tr>\n",
       "      <th>bitter</th>\n",
       "      <td>-0.627371</td>\n",
       "    </tr>\n",
       "    <tr>\n",
       "      <th>left</th>\n",
       "      <td>-0.625873</td>\n",
       "    </tr>\n",
       "    <tr>\n",
       "      <th>company</th>\n",
       "      <td>-0.624924</td>\n",
       "    </tr>\n",
       "    <tr>\n",
       "      <th>item</th>\n",
       "      <td>-0.604363</td>\n",
       "    </tr>\n",
       "    <tr>\n",
       "      <th>nothing</th>\n",
       "      <td>-0.591488</td>\n",
       "    </tr>\n",
       "    <tr>\n",
       "      <th>guess</th>\n",
       "      <td>-0.591346</td>\n",
       "    </tr>\n",
       "    <tr>\n",
       "      <th>either</th>\n",
       "      <td>-0.576629</td>\n",
       "    </tr>\n",
       "    <tr>\n",
       "      <th>received</th>\n",
       "      <td>-0.556296</td>\n",
       "    </tr>\n",
       "    <tr>\n",
       "      <th>pieces</th>\n",
       "      <td>-0.540926</td>\n",
       "    </tr>\n",
       "    <tr>\n",
       "      <th>ingredient</th>\n",
       "      <td>-0.535749</td>\n",
       "    </tr>\n",
       "    <tr>\n",
       "      <th>past</th>\n",
       "      <td>-0.517435</td>\n",
       "    </tr>\n",
       "    <tr>\n",
       "      <th>50</th>\n",
       "      <td>-0.500694</td>\n",
       "    </tr>\n",
       "    <tr>\n",
       "      <th>artificial</th>\n",
       "      <td>-0.486814</td>\n",
       "    </tr>\n",
       "    <tr>\n",
       "      <th>almost</th>\n",
       "      <td>-0.486306</td>\n",
       "    </tr>\n",
       "    <tr>\n",
       "      <th>even</th>\n",
       "      <td>-0.483507</td>\n",
       "    </tr>\n",
       "    <tr>\n",
       "      <th>wrong</th>\n",
       "      <td>-0.480815</td>\n",
       "    </tr>\n",
       "    <tr>\n",
       "      <th>someone</th>\n",
       "      <td>-0.473306</td>\n",
       "    </tr>\n",
       "    <tr>\n",
       "      <th>would</th>\n",
       "      <td>-0.463258</td>\n",
       "    </tr>\n",
       "    <tr>\n",
       "      <th>mouth</th>\n",
       "      <td>-0.458782</td>\n",
       "    </tr>\n",
       "    <tr>\n",
       "      <th>bought</th>\n",
       "      <td>-0.457368</td>\n",
       "    </tr>\n",
       "    <tr>\n",
       "      <th>...</th>\n",
       "      <td>...</td>\n",
       "    </tr>\n",
       "    <tr>\n",
       "      <th>quickly</th>\n",
       "      <td>0.697646</td>\n",
       "    </tr>\n",
       "    <tr>\n",
       "      <th>sometimes</th>\n",
       "      <td>0.761596</td>\n",
       "    </tr>\n",
       "    <tr>\n",
       "      <th>thanks</th>\n",
       "      <td>0.785373</td>\n",
       "    </tr>\n",
       "    <tr>\n",
       "      <th>snack</th>\n",
       "      <td>0.793849</td>\n",
       "    </tr>\n",
       "    <tr>\n",
       "      <th>helps</th>\n",
       "      <td>0.807007</td>\n",
       "    </tr>\n",
       "    <tr>\n",
       "      <th>tasty</th>\n",
       "      <td>0.824467</td>\n",
       "    </tr>\n",
       "    <tr>\n",
       "      <th>stores</th>\n",
       "      <td>0.854302</td>\n",
       "    </tr>\n",
       "    <tr>\n",
       "      <th>love</th>\n",
       "      <td>0.857460</td>\n",
       "    </tr>\n",
       "    <tr>\n",
       "      <th>rich</th>\n",
       "      <td>0.886900</td>\n",
       "    </tr>\n",
       "    <tr>\n",
       "      <th>favorite</th>\n",
       "      <td>0.896256</td>\n",
       "    </tr>\n",
       "    <tr>\n",
       "      <th>happy</th>\n",
       "      <td>0.920218</td>\n",
       "    </tr>\n",
       "    <tr>\n",
       "      <th>glad</th>\n",
       "      <td>0.934368</td>\n",
       "    </tr>\n",
       "    <tr>\n",
       "      <th>nice</th>\n",
       "      <td>0.955321</td>\n",
       "    </tr>\n",
       "    <tr>\n",
       "      <th>easy</th>\n",
       "      <td>0.985822</td>\n",
       "    </tr>\n",
       "    <tr>\n",
       "      <th>fast</th>\n",
       "      <td>0.989241</td>\n",
       "    </tr>\n",
       "    <tr>\n",
       "      <th>thank</th>\n",
       "      <td>1.101198</td>\n",
       "    </tr>\n",
       "    <tr>\n",
       "      <th>fantastic</th>\n",
       "      <td>1.152852</td>\n",
       "    </tr>\n",
       "    <tr>\n",
       "      <th>wonderful</th>\n",
       "      <td>1.191335</td>\n",
       "    </tr>\n",
       "    <tr>\n",
       "      <th>loves</th>\n",
       "      <td>1.224855</td>\n",
       "    </tr>\n",
       "    <tr>\n",
       "      <th>great</th>\n",
       "      <td>1.238515</td>\n",
       "    </tr>\n",
       "    <tr>\n",
       "      <th>smooth</th>\n",
       "      <td>1.260810</td>\n",
       "    </tr>\n",
       "    <tr>\n",
       "      <th>amazing</th>\n",
       "      <td>1.289759</td>\n",
       "    </tr>\n",
       "    <tr>\n",
       "      <th>highly</th>\n",
       "      <td>1.320401</td>\n",
       "    </tr>\n",
       "    <tr>\n",
       "      <th>awesome</th>\n",
       "      <td>1.328626</td>\n",
       "    </tr>\n",
       "    <tr>\n",
       "      <th>best</th>\n",
       "      <td>1.361283</td>\n",
       "    </tr>\n",
       "    <tr>\n",
       "      <th>excellent</th>\n",
       "      <td>1.370205</td>\n",
       "    </tr>\n",
       "    <tr>\n",
       "      <th>yummy</th>\n",
       "      <td>1.381908</td>\n",
       "    </tr>\n",
       "    <tr>\n",
       "      <th>pleased</th>\n",
       "      <td>1.450046</td>\n",
       "    </tr>\n",
       "    <tr>\n",
       "      <th>delicious</th>\n",
       "      <td>1.690979</td>\n",
       "    </tr>\n",
       "    <tr>\n",
       "      <th>perfect</th>\n",
       "      <td>1.747834</td>\n",
       "    </tr>\n",
       "  </tbody>\n",
       "</table>\n",
       "<p>500 rows × 1 columns</p>\n",
       "</div>"
      ],
      "text/plain": [
       "                    w1\n",
       "disappointed -1.614880\n",
       "money        -1.345279\n",
       "please       -0.999271\n",
       "bad          -0.991652\n",
       "thought      -0.880215\n",
       "away         -0.853694\n",
       "maybe        -0.826777\n",
       "opened       -0.808896\n",
       "reviews      -0.693891\n",
       "tasted       -0.644872\n",
       "bitter       -0.627371\n",
       "left         -0.625873\n",
       "company      -0.624924\n",
       "item         -0.604363\n",
       "nothing      -0.591488\n",
       "guess        -0.591346\n",
       "either       -0.576629\n",
       "received     -0.556296\n",
       "pieces       -0.540926\n",
       "ingredient   -0.535749\n",
       "past         -0.517435\n",
       "50           -0.500694\n",
       "artificial   -0.486814\n",
       "almost       -0.486306\n",
       "even         -0.483507\n",
       "wrong        -0.480815\n",
       "someone      -0.473306\n",
       "would        -0.463258\n",
       "mouth        -0.458782\n",
       "bought       -0.457368\n",
       "...                ...\n",
       "quickly       0.697646\n",
       "sometimes     0.761596\n",
       "thanks        0.785373\n",
       "snack         0.793849\n",
       "helps         0.807007\n",
       "tasty         0.824467\n",
       "stores        0.854302\n",
       "love          0.857460\n",
       "rich          0.886900\n",
       "favorite      0.896256\n",
       "happy         0.920218\n",
       "glad          0.934368\n",
       "nice          0.955321\n",
       "easy          0.985822\n",
       "fast          0.989241\n",
       "thank         1.101198\n",
       "fantastic     1.152852\n",
       "wonderful     1.191335\n",
       "loves         1.224855\n",
       "great         1.238515\n",
       "smooth        1.260810\n",
       "amazing       1.289759\n",
       "highly        1.320401\n",
       "awesome       1.328626\n",
       "best          1.361283\n",
       "excellent     1.370205\n",
       "yummy         1.381908\n",
       "pleased       1.450046\n",
       "delicious     1.690979\n",
       "perfect       1.747834\n",
       "\n",
       "[500 rows x 1 columns]"
      ]
     },
     "execution_count": 69,
     "metadata": {},
     "output_type": "execute_result"
    }
   ],
   "source": [
    "df2=df2.sort_values(by=['w1'])\n",
    "df2"
   ]
  },
  {
   "cell_type": "markdown",
   "metadata": {},
   "source": [
    "#### Obeservation:\n",
    "words are arranged in ascending order .The words with negative weight contribute to negative class, and words with positve weight contribute more to positive class"
   ]
  },
  {
   "cell_type": "markdown",
   "metadata": {},
   "source": [
    "## TF-IDF"
   ]
  },
  {
   "cell_type": "code",
   "execution_count": 104,
   "metadata": {},
   "outputs": [],
   "source": [
    "tf_idf = TfidfVectorizer(min_df=5).fit(x_tr)\n"
   ]
  },
  {
   "cell_type": "code",
   "execution_count": 105,
   "metadata": {},
   "outputs": [],
   "source": [
    "x_tdidf=tf_idf.transform(x_tr)"
   ]
  },
  {
   "cell_type": "code",
   "execution_count": 106,
   "metadata": {},
   "outputs": [],
   "source": [
    "x_cvtfidf=tf_idf.transform(x_cv)\n",
    "x_testtfidf=tf_idf.transform(x_test)"
   ]
  },
  {
   "cell_type": "markdown",
   "metadata": {},
   "source": [
    "## LR using TF-IDF"
   ]
  },
  {
   "cell_type": "code",
   "execution_count": 107,
   "metadata": {},
   "outputs": [
    {
     "data": {
      "text/plain": [
       "LogisticRegression(C=100, class_weight=None, dual=False, fit_intercept=True,\n",
       "          intercept_scaling=1, max_iter=100, multi_class='ovr', n_jobs=1,\n",
       "          penalty='l2', random_state=None, solver='liblinear', tol=0.0001,\n",
       "          verbose=0, warm_start=False)"
      ]
     },
     "execution_count": 107,
     "metadata": {},
     "output_type": "execute_result"
    }
   ],
   "source": [
    "#From GridSearchCV Choosing C=100\n",
    "lr=LogisticRegression(penalty='l2',C=100)\n",
    "lr.fit(x_tdidf,y_tr)\n"
   ]
  },
  {
   "cell_type": "code",
   "execution_count": 108,
   "metadata": {},
   "outputs": [],
   "source": [
    "pred=lr.predict(x_testtfidf)"
   ]
  },
  {
   "cell_type": "code",
   "execution_count": 110,
   "metadata": {},
   "outputs": [
    {
     "name": "stdout",
     "output_type": "stream",
     "text": [
      "test error 2.1464988224225183\n"
     ]
    }
   ],
   "source": [
    "print(\"test error\",log_loss(y_test, pred, labels=lr.classes_, eps=1e-15))"
   ]
  },
  {
   "cell_type": "code",
   "execution_count": 111,
   "metadata": {
    "scrolled": true
   },
   "outputs": [
    {
     "name": "stdout",
     "output_type": "stream",
     "text": [
      "CV error 2.090116462683089\n"
     ]
    }
   ],
   "source": [
    "pred2=lr.predict(x_cvtfidf)\n",
    "print(\"CV error\",log_loss(y_cv, pred2, labels=lr.classes_, eps=1e-15))"
   ]
  },
  {
   "cell_type": "code",
   "execution_count": 115,
   "metadata": {},
   "outputs": [
    {
     "name": "stdout",
     "output_type": "stream",
     "text": [
      "Confusion matrix, without normalization\n",
      "[[ 7827  2720]\n",
      " [ 1941 62512]]\n"
     ]
    },
    {
     "data": {
      "image/png": "[encoded data removed]",
      "text/plain": [
       "<Figure size 432x288 with 2 Axes>"
      ]
     },
     "metadata": {},
     "output_type": "display_data"
    }
   ],
   "source": [
    "plot_confusion_matrix(confusion_matrix(y_test,pred))"
   ]
  },
  {
   "cell_type": "markdown",
   "metadata": {},
   "source": [
    "#### Observation:\n",
    "* True positive=7827\n",
    "* true negative=62512"
   ]
  },
  {
   "cell_type": "markdown",
   "metadata": {},
   "source": [
    "## Word2Vec"
   ]
  },
  {
   "cell_type": "code",
   "execution_count": 112,
   "metadata": {},
   "outputs": [],
   "source": [
    "# Using Google News Word2Vectors\n",
    "from gensim.models import Word2Vec\n",
    "from gensim.models import KeyedVectors\n",
    "import pickle"
   ]
  },
  {
   "cell_type": "code",
   "execution_count": 113,
   "metadata": {},
   "outputs": [],
   "source": [
    "# Train your own Word2Vec model using your own text corpus\n",
    "import gensim"
   ]
  },
  {
   "cell_type": "code",
   "execution_count": 114,
   "metadata": {},
   "outputs": [
    {
     "data": {
      "text/plain": [
       "gensim.models.word2vec.Word2Vec"
      ]
     },
     "execution_count": 114,
     "metadata": {},
     "output_type": "execute_result"
    }
   ],
   "source": [
    "w2v_model=gensim.models.Word2Vec(x_tr,min_count=5,size=200, workers=4)    \n",
    "type(w2v_model)"
   ]
  },
  {
   "cell_type": "code",
   "execution_count": 116,
   "metadata": {},
   "outputs": [],
   "source": [
    "# Function to average all word vectors in a paragraph\n",
    "def featureVecMethod(words, model, num_features):\n",
    "    # Pre-initialising empty numpy array for speed\n",
    "    featureVec = np.zeros(num_features,dtype=\"float32\")\n",
    "    nwords = 0\n",
    "    \n",
    "    #Converting Index2Word which is a list to a set for better speed in the execution.\n",
    "    index2word_set = set(model.wv.index2word)\n",
    "    \n",
    "    for word in  words:\n",
    "        if word in index2word_set:\n",
    "            nwords = nwords + 1\n",
    "            featureVec = np.add(featureVec,model[word])\n",
    "    \n",
    "    # Dividing the result by number of words to get average\n",
    "    featureVec = np.divide(featureVec, nwords)\n",
    "    return featureVec"
   ]
  },
  {
   "cell_type": "code",
   "execution_count": 117,
   "metadata": {},
   "outputs": [],
   "source": [
    "# Function for calculating the average feature vector\n",
    "def getAvgFeatureVecs(reviews, model, num_features):\n",
    "    counter = 0\n",
    "    reviewFeatureVecs = np.zeros((len(reviews),num_features),dtype=\"float32\")\n",
    "    for review in reviews:\n",
    "        reviewFeatureVecs[counter] = featureVecMethod(review, model, num_features)\n",
    "        counter = counter+1\n",
    "        \n",
    "    return reviewFeatureVecs"
   ]
  },
  {
   "cell_type": "code",
   "execution_count": 118,
   "metadata": {},
   "outputs": [],
   "source": [
    "#finding W2V for 200dimensions\n",
    "trainDataVecs = getAvgFeatureVecs(x_tr, w2v_model, 200)"
   ]
  },
  {
   "cell_type": "code",
   "execution_count": 119,
   "metadata": {},
   "outputs": [],
   "source": [
    "#getting Vectorisers for test\n",
    "testDataVecs = getAvgFeatureVecs(x_test, w2v_model, 200)"
   ]
  },
  {
   "cell_type": "code",
   "execution_count": 120,
   "metadata": {},
   "outputs": [
    {
     "data": {
      "text/plain": [
       "LogisticRegression(C=100, class_weight=None, dual=False, fit_intercept=True,\n",
       "          intercept_scaling=1, max_iter=100, multi_class='ovr', n_jobs=1,\n",
       "          penalty='l2', random_state=None, solver='liblinear', tol=0.0001,\n",
       "          verbose=0, warm_start=False)"
      ]
     },
     "execution_count": 120,
     "metadata": {},
     "output_type": "execute_result"
    }
   ],
   "source": [
    "#From GridSearchCV Choosing C=100\n",
    "lr=LogisticRegression(penalty='l2',C=100)\n",
    "lr.fit(trainDataVecs,y_tr)\n"
   ]
  },
  {
   "cell_type": "code",
   "execution_count": 123,
   "metadata": {},
   "outputs": [],
   "source": [
    "#predicting on test data\n",
    "predw2v=lr.predict(testDataVecs)"
   ]
  },
  {
   "cell_type": "code",
   "execution_count": 127,
   "metadata": {},
   "outputs": [
    {
     "name": "stdout",
     "output_type": "stream",
     "text": [
      "test error 4.8617895332777055\n"
     ]
    }
   ],
   "source": [
    "print(\"test error\",log_loss(y_test, predw2v, labels=lr.classes_, eps=1e-15))"
   ]
  },
  {
   "cell_type": "code",
   "execution_count": 124,
   "metadata": {},
   "outputs": [
    {
     "name": "stdout",
     "output_type": "stream",
     "text": [
      "Confusion matrix, without normalization\n",
      "[[  101 10446]\n",
      " [  111 64342]]\n"
     ]
    },
    {
     "data": {
      "image/png": "[encoded data removed]",
      "text/plain": [
       "<Figure size 432x288 with 2 Axes>"
      ]
     },
     "metadata": {},
     "output_type": "display_data"
    }
   ],
   "source": [
    "plot_confusion_matrix(confusion_matrix(y_test,predw2v))"
   ]
  },
  {
   "cell_type": "markdown",
   "metadata": {},
   "source": [
    "* True Possitve=101\n",
    "* True negative=64342"
   ]
  },
  {
   "cell_type": "code",
   "execution_count": 125,
   "metadata": {},
   "outputs": [],
   "source": [
    "cvdatavecs=getAvgFeatureVecs(x_cv, w2v_model, 200)"
   ]
  },
  {
   "cell_type": "code",
   "execution_count": 126,
   "metadata": {},
   "outputs": [
    {
     "name": "stdout",
     "output_type": "stream",
     "text": [
      "CV error 4.813170872262511\n"
     ]
    }
   ],
   "source": [
    "#log-Loss\n",
    "pred2=lr.predict(cvdatavecs)\n",
    "print(\"CV error\",log_loss(y_cv, pred2, labels=lr.classes_, eps=1e-15))"
   ]
  },
  {
   "cell_type": "markdown",
   "metadata": {},
   "source": [
    "## Conclusion:\n",
    "\n",
    "### Logistic Regression\n",
    "\n",
    "### Hyperparameter C=100 From GridSearchCV\n",
    "\n",
    "#### Tf-IDF LR:\n",
    "* test error 2.1464988224225183\n",
    "* CV error 2.090116462683089\n",
    "\n",
    "#### AVGW2V:\n",
    "* CV error 4.813170872262511\n",
    "* test error 4.8617895332777055"
   ]
  }
 ],
 "metadata": {
  "kernelspec": {
   "display_name": "Python 3",
   "language": "python",
   "name": "python3"
  },
  "language_info": {
   "codemirror_mode": {
    "name": "ipython",
    "version": 3
   },
   "file_extension": ".py",
   "mimetype": "text/x-python",
   "name": "python",
   "nbconvert_exporter": "python",
   "pygments_lexer": "ipython3",
   "version": "3.6.4"
  }
 },
 "nbformat": 4,
 "nbformat_minor": 2
}
